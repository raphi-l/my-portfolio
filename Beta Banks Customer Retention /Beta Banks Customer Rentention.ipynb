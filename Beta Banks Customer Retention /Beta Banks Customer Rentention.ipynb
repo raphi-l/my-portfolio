{
 "cells": [
  {
   "cell_type": "markdown",
   "metadata": {},
   "source": [
    "# Beta Banks Customer Retention\n",
    "Prepared by Raphael Lu\n"
   ]
  },
  {
   "cell_type": "code",
   "execution_count": 1,
   "metadata": {},
   "outputs": [],
   "source": [
    "import pandas as pd\n",
    "from sklearn.model_selection import train_test_split\n",
    "from sklearn.ensemble import RandomForestClassifier\n",
    "from sklearn.metrics import f1_score, roc_auc_score, roc_curve, confusion_matrix, make_scorer\n",
    "from sklearn.utils import shuffle \n",
    "from sklearn.model_selection import GridSearchCV\n",
    "import numpy as np\n",
    "from statsmodels.stats.proportion import proportions_ztest\n",
    "import matplotlib.pyplot as plt\n",
    "\n",
    "\n",
    "from pathlib import Path\n"
   ]
  },
  {
   "cell_type": "code",
   "execution_count": 2,
   "metadata": {},
   "outputs": [
    {
     "name": "stdout",
     "output_type": "stream",
     "text": [
      "Data loaded from: ../datasets/Churn.csv\n"
     ]
    }
   ],
   "source": [
    "filename = 'Churn.csv'\n",
    "paths = [\n",
    "    Path('../datasets'),\n",
    "    Path.home() / 'Documents/Triple Ten Projects/my-portfolio/datasets'  # local fallback\n",
    "]\n",
    "\n",
    "loaded_from = None  # to store the path that worked\n",
    "\n",
    "for path in paths:\n",
    "    file_path = path / filename\n",
    "    if file_path.exists():\n",
    "        df = pd.read_csv(file_path)\n",
    "        loaded_from = file_path  # save the path\n",
    "        break\n",
    "else:\n",
    "    raise FileNotFoundError(f\"{filename} not found in any of the specified paths.\")\n",
    "\n",
    "print(f\"Data loaded from: {loaded_from}\")"
   ]
  },
  {
   "cell_type": "markdown",
   "metadata": {},
   "source": [
    "## Introduction\n",
    "\n",
    "The purpose of this project is to assess the churn of bank customers at Beta Banks. Specifically, we will train models on data of past client behaviors to predict retention or loss of customers. \n",
    "\n",
    "Because we are dealing with a binary outcome (loss v retention), we will explore random decision trees using `RandomForestClassifier` from the `sklearn` library. In training our model, we will split available data using a 3:1:1 (train : validate : test) ratio. Paramters we will explore include n_estimators, tree depth, class balance, and threshold for positive prediction. We set our determinant for accuracy of the final model a priori at an F1 Score of 0.59.\n",
    "\n",
    "Building a model that accurately predicts churn, will allow us to target customers for rention efforts.  \n"
   ]
  },
  {
   "cell_type": "markdown",
   "metadata": {},
   "source": [
    "### Data Documentation Guide\n",
    "\n",
    "**Features**\n",
    "`RowNumber` — data string index  \n",
    "`CustomerId` — unique customer identifier  \n",
    "`Surname` — surname  \n",
    "`CreditScore` — credit score  \n",
    "`Geography` — country of residence  \n",
    "`Gender` — gender  \n",
    "`Age` — age  \n",
    "`Tenure` — period of maturation for a customer’s fixed deposit (years)  \n",
    "`Balance` — account balance  \n",
    "`NumOfProducts` — number of banking products used by the customer  \n",
    "`HasCrCard` — customer has a credit card (1 — yes, 0 — no)  \n",
    "`IsActiveMember` — customer’s activeness (1 — active, 0 — inactive)  \n",
    "`EstimatedSalary` — estimated salary\n",
    "\n",
    "**Target**  \n",
    "`Exited` — customer has left\n"
   ]
  },
  {
   "cell_type": "markdown",
   "metadata": {},
   "source": [
    "## Initial Exploration of Data\n",
    "\n",
    "Per initial view, we have historic data on 10,000 customers. Looking at our target metric, we see a class imbalance where only 20.4% of customers ended up leaving the bank.  \n",
    "\n",
    "`RowNumber`, `CustomerId`, and `Surname` will be removed from the data set as they are not predictive of customer churn.  \n",
    "\n",
    "`Gender`(k=2) and `Geography`(k=3) will be re-encoded using One Hot Encoding, dropping one class from each to avoid a \"Dummy Feature Trap\". \n",
    "\n",
    "In the data, we are also missing tenure information on 909 customers. Ostensibly there does not appear to specific shared characteristics amongst these individuals, however more exploration may need to be done. For the purposes if this analysis, NaN Tenure customers will be treated as a seperate category, with regard to tenure. \n",
    "\n"
   ]
  },
  {
   "cell_type": "code",
   "execution_count": 3,
   "metadata": {},
   "outputs": [
    {
     "name": "stdout",
     "output_type": "stream",
     "text": [
      "<class 'pandas.core.frame.DataFrame'>\n",
      "RangeIndex: 10000 entries, 0 to 9999\n",
      "Data columns (total 14 columns):\n",
      " #   Column           Non-Null Count  Dtype  \n",
      "---  ------           --------------  -----  \n",
      " 0   RowNumber        10000 non-null  int64  \n",
      " 1   CustomerId       10000 non-null  int64  \n",
      " 2   Surname          10000 non-null  object \n",
      " 3   CreditScore      10000 non-null  int64  \n",
      " 4   Geography        10000 non-null  object \n",
      " 5   Gender           10000 non-null  object \n",
      " 6   Age              10000 non-null  int64  \n",
      " 7   Tenure           9091 non-null   float64\n",
      " 8   Balance          10000 non-null  float64\n",
      " 9   NumOfProducts    10000 non-null  int64  \n",
      " 10  HasCrCard        10000 non-null  int64  \n",
      " 11  IsActiveMember   10000 non-null  int64  \n",
      " 12  EstimatedSalary  10000 non-null  float64\n",
      " 13  Exited           10000 non-null  int64  \n",
      "dtypes: float64(3), int64(8), object(3)\n",
      "memory usage: 1.1+ MB\n"
     ]
    },
    {
     "data": {
      "text/plain": [
       "None"
      ]
     },
     "metadata": {},
     "output_type": "display_data"
    },
    {
     "data": {
      "text/html": [
       "<div>\n",
       "<style scoped>\n",
       "    .dataframe tbody tr th:only-of-type {\n",
       "        vertical-align: middle;\n",
       "    }\n",
       "\n",
       "    .dataframe tbody tr th {\n",
       "        vertical-align: top;\n",
       "    }\n",
       "\n",
       "    .dataframe thead th {\n",
       "        text-align: right;\n",
       "    }\n",
       "</style>\n",
       "<table border=\"1\" class=\"dataframe\">\n",
       "  <thead>\n",
       "    <tr style=\"text-align: right;\">\n",
       "      <th></th>\n",
       "      <th>RowNumber</th>\n",
       "      <th>CustomerId</th>\n",
       "      <th>CreditScore</th>\n",
       "      <th>Age</th>\n",
       "      <th>Tenure</th>\n",
       "      <th>Balance</th>\n",
       "      <th>NumOfProducts</th>\n",
       "      <th>HasCrCard</th>\n",
       "      <th>IsActiveMember</th>\n",
       "      <th>EstimatedSalary</th>\n",
       "      <th>Exited</th>\n",
       "    </tr>\n",
       "  </thead>\n",
       "  <tbody>\n",
       "    <tr>\n",
       "      <th>count</th>\n",
       "      <td>10000.00000</td>\n",
       "      <td>1.000000e+04</td>\n",
       "      <td>10000.000000</td>\n",
       "      <td>10000.000000</td>\n",
       "      <td>9091.000000</td>\n",
       "      <td>10000.000000</td>\n",
       "      <td>10000.000000</td>\n",
       "      <td>10000.00000</td>\n",
       "      <td>10000.000000</td>\n",
       "      <td>10000.000000</td>\n",
       "      <td>10000.000000</td>\n",
       "    </tr>\n",
       "    <tr>\n",
       "      <th>mean</th>\n",
       "      <td>5000.50000</td>\n",
       "      <td>1.569094e+07</td>\n",
       "      <td>650.528800</td>\n",
       "      <td>38.921800</td>\n",
       "      <td>4.997690</td>\n",
       "      <td>76485.889288</td>\n",
       "      <td>1.530200</td>\n",
       "      <td>0.70550</td>\n",
       "      <td>0.515100</td>\n",
       "      <td>100090.239881</td>\n",
       "      <td>0.203700</td>\n",
       "    </tr>\n",
       "    <tr>\n",
       "      <th>50%</th>\n",
       "      <td>5000.50000</td>\n",
       "      <td>1.569074e+07</td>\n",
       "      <td>652.000000</td>\n",
       "      <td>37.000000</td>\n",
       "      <td>5.000000</td>\n",
       "      <td>97198.540000</td>\n",
       "      <td>1.000000</td>\n",
       "      <td>1.00000</td>\n",
       "      <td>1.000000</td>\n",
       "      <td>100193.915000</td>\n",
       "      <td>0.000000</td>\n",
       "    </tr>\n",
       "    <tr>\n",
       "      <th>min</th>\n",
       "      <td>1.00000</td>\n",
       "      <td>1.556570e+07</td>\n",
       "      <td>350.000000</td>\n",
       "      <td>18.000000</td>\n",
       "      <td>0.000000</td>\n",
       "      <td>0.000000</td>\n",
       "      <td>1.000000</td>\n",
       "      <td>0.00000</td>\n",
       "      <td>0.000000</td>\n",
       "      <td>11.580000</td>\n",
       "      <td>0.000000</td>\n",
       "    </tr>\n",
       "    <tr>\n",
       "      <th>std</th>\n",
       "      <td>2886.89568</td>\n",
       "      <td>7.193619e+04</td>\n",
       "      <td>96.653299</td>\n",
       "      <td>10.487806</td>\n",
       "      <td>2.894723</td>\n",
       "      <td>62397.405202</td>\n",
       "      <td>0.581654</td>\n",
       "      <td>0.45584</td>\n",
       "      <td>0.499797</td>\n",
       "      <td>57510.492818</td>\n",
       "      <td>0.402769</td>\n",
       "    </tr>\n",
       "    <tr>\n",
       "      <th>max</th>\n",
       "      <td>10000.00000</td>\n",
       "      <td>1.581569e+07</td>\n",
       "      <td>850.000000</td>\n",
       "      <td>92.000000</td>\n",
       "      <td>10.000000</td>\n",
       "      <td>250898.090000</td>\n",
       "      <td>4.000000</td>\n",
       "      <td>1.00000</td>\n",
       "      <td>1.000000</td>\n",
       "      <td>199992.480000</td>\n",
       "      <td>1.000000</td>\n",
       "    </tr>\n",
       "  </tbody>\n",
       "</table>\n",
       "</div>"
      ],
      "text/plain": [
       "         RowNumber    CustomerId   CreditScore           Age       Tenure  \\\n",
       "count  10000.00000  1.000000e+04  10000.000000  10000.000000  9091.000000   \n",
       "mean    5000.50000  1.569094e+07    650.528800     38.921800     4.997690   \n",
       "50%     5000.50000  1.569074e+07    652.000000     37.000000     5.000000   \n",
       "min        1.00000  1.556570e+07    350.000000     18.000000     0.000000   \n",
       "std     2886.89568  7.193619e+04     96.653299     10.487806     2.894723   \n",
       "max    10000.00000  1.581569e+07    850.000000     92.000000    10.000000   \n",
       "\n",
       "             Balance  NumOfProducts    HasCrCard  IsActiveMember  \\\n",
       "count   10000.000000   10000.000000  10000.00000    10000.000000   \n",
       "mean    76485.889288       1.530200      0.70550        0.515100   \n",
       "50%     97198.540000       1.000000      1.00000        1.000000   \n",
       "min         0.000000       1.000000      0.00000        0.000000   \n",
       "std     62397.405202       0.581654      0.45584        0.499797   \n",
       "max    250898.090000       4.000000      1.00000        1.000000   \n",
       "\n",
       "       EstimatedSalary        Exited  \n",
       "count     10000.000000  10000.000000  \n",
       "mean     100090.239881      0.203700  \n",
       "50%      100193.915000      0.000000  \n",
       "min          11.580000      0.000000  \n",
       "std       57510.492818      0.402769  \n",
       "max      199992.480000      1.000000  "
      ]
     },
     "metadata": {},
     "output_type": "display_data"
    },
    {
     "data": {
      "text/html": [
       "<div>\n",
       "<style scoped>\n",
       "    .dataframe tbody tr th:only-of-type {\n",
       "        vertical-align: middle;\n",
       "    }\n",
       "\n",
       "    .dataframe tbody tr th {\n",
       "        vertical-align: top;\n",
       "    }\n",
       "\n",
       "    .dataframe thead th {\n",
       "        text-align: right;\n",
       "    }\n",
       "</style>\n",
       "<table border=\"1\" class=\"dataframe\">\n",
       "  <thead>\n",
       "    <tr style=\"text-align: right;\">\n",
       "      <th>Tenure</th>\n",
       "      <th>0.0</th>\n",
       "      <th>1.0</th>\n",
       "      <th>2.0</th>\n",
       "      <th>3.0</th>\n",
       "      <th>4.0</th>\n",
       "      <th>5.0</th>\n",
       "      <th>6.0</th>\n",
       "      <th>7.0</th>\n",
       "      <th>8.0</th>\n",
       "      <th>9.0</th>\n",
       "      <th>10.0</th>\n",
       "      <th>NaN</th>\n",
       "    </tr>\n",
       "  </thead>\n",
       "  <tbody>\n",
       "    <tr>\n",
       "      <th>Customer_Count</th>\n",
       "      <td>382.000</td>\n",
       "      <td>952.000</td>\n",
       "      <td>950.000</td>\n",
       "      <td>928.000</td>\n",
       "      <td>885.000</td>\n",
       "      <td>927.000</td>\n",
       "      <td>881.000</td>\n",
       "      <td>925.000</td>\n",
       "      <td>933.000</td>\n",
       "      <td>882.00</td>\n",
       "      <td>446.000</td>\n",
       "      <td>909.000</td>\n",
       "    </tr>\n",
       "    <tr>\n",
       "      <th>Exit_Rate</th>\n",
       "      <td>0.236</td>\n",
       "      <td>0.224</td>\n",
       "      <td>0.195</td>\n",
       "      <td>0.213</td>\n",
       "      <td>0.208</td>\n",
       "      <td>0.202</td>\n",
       "      <td>0.201</td>\n",
       "      <td>0.173</td>\n",
       "      <td>0.186</td>\n",
       "      <td>0.22</td>\n",
       "      <td>0.206</td>\n",
       "      <td>0.201</td>\n",
       "    </tr>\n",
       "  </tbody>\n",
       "</table>\n",
       "</div>"
      ],
      "text/plain": [
       "Tenure             0.0      1.0      2.0      3.0      4.0      5.0      6.0   \\\n",
       "Customer_Count  382.000  952.000  950.000  928.000  885.000  927.000  881.000   \n",
       "Exit_Rate         0.236    0.224    0.195    0.213    0.208    0.202    0.201   \n",
       "\n",
       "Tenure             7.0      8.0     9.0      10.0     NaN   \n",
       "Customer_Count  925.000  933.000  882.00  446.000  909.000  \n",
       "Exit_Rate         0.173    0.186    0.22    0.206    0.201  "
      ]
     },
     "metadata": {},
     "output_type": "display_data"
    }
   ],
   "source": [
    "display(df.info())\n",
    "display(df.describe().iloc[[0,1,5,3,2,7]])\n",
    "\n",
    "tenure_analysis = df.groupby('Tenure', dropna=False)['Exited'].agg(['count', 'mean'])\n",
    "tenure_analysis.columns = ['Customer_Count', 'Exit_Rate']\n",
    "tenure_analysis['Exit_Rate'] = tenure_analysis['Exit_Rate'].round(3)\n",
    "display(tenure_analysis.T)"
   ]
  },
  {
   "cell_type": "markdown",
   "metadata": {},
   "source": [
    "### Catagorical Features\n",
    "\n"
   ]
  },
  {
   "cell_type": "code",
   "execution_count": 4,
   "metadata": {
    "scrolled": true
   },
   "outputs": [
    {
     "data": {
      "text/plain": [
       "\"Unique Geographic Regions: ['France' 'Spain' 'Germany']\""
      ]
     },
     "metadata": {},
     "output_type": "display_data"
    },
    {
     "data": {
      "text/plain": [
       "\"Unique Genders: ['Female' 'Male']\""
      ]
     },
     "metadata": {},
     "output_type": "display_data"
    }
   ],
   "source": [
    "display (f\"Unique Geographic Regions: {df['Geography'].unique()}\")\n",
    "display (f\"Unique Genders: {df['Gender'].unique()}\")"
   ]
  },
  {
   "cell_type": "markdown",
   "metadata": {},
   "source": [
    "### Analysis of `NaN` values in Tenure\n",
    "\n",
    "We will assess whether there is a statistically significant difference between the proportion of customers who have left the bank looking at customers with `NaN` Tenure years and customers with known Tenure years. For proportion comparison, we will use a Two-proportion Z-test and will set our hypotheses accordingly. We will set our alpha for statitical significance at 0.05. \n",
    "* H_0: There is no statistically significant difference between the proportions of customers who left the bank from Nan Tenure and Known Tenure\n",
    "* H_A: There is a statistically significant difference between the proportions of customers who left the bank from Nan Tenure and Known Tenure.\n",
    "\n",
    "\\* For simplicity we did not use Chi-square analysis to assess differnce amongst all tenure years. Ostensibly, all tenure years appear to have ~20% churn rate so we assumed homogenaity amongst these years.   \n"
   ]
  },
  {
   "cell_type": "code",
   "execution_count": 5,
   "metadata": {},
   "outputs": [
    {
     "name": "stdout",
     "output_type": "stream",
     "text": [
      "Z-Stat: -0.18685086273175583, P-score: 0.8517775664261061\n"
     ]
    }
   ],
   "source": [
    "group_nan = df[df['Tenure'].isna()]\n",
    "group_non_nan = df[df['Tenure'].notna()]\n",
    "\n",
    "churn_counts = np.array([group_nan['Exited'].sum(), \n",
    "                        group_non_nan['Exited'].sum()\n",
    "                       ])\n",
    "\n",
    "n_obs = np.array([len(group_nan),\n",
    "                 len(group_non_nan)\n",
    "                ])\n",
    "\n",
    "stat, pval = proportions_ztest(churn_counts, n_obs, alternative='two-sided')\n",
    "print(f\"Z-Stat: {stat}, P-score: {pval}\")"
   ]
  },
  {
   "cell_type": "markdown",
   "metadata": {},
   "source": [
    "Because our |Z-stat| is well below 1 and p-score is well above alpha, we fail to reject the null hypothesis and conclude that there is not a statistically significant difference in the proportion of customers who left the bank between our NaN and Known tenure groups.  \n",
    "\n",
    "Accordingly, for this project we will assume that Tenure is not a key determinate for churn. Because both mean (4.99 years) and mode (5 years) are roughly equal (indicating symmetrical distribution of Tenure years), we will substitute `NaN` values with 5.0 years. "
   ]
  },
  {
   "cell_type": "code",
   "execution_count": 6,
   "metadata": {},
   "outputs": [],
   "source": [
    "df['Tenure'] = df['Tenure'].fillna(5.0)"
   ]
  },
  {
   "cell_type": "markdown",
   "metadata": {},
   "source": [
    "## Data Preperation and Splitting\n"
   ]
  },
  {
   "cell_type": "markdown",
   "metadata": {},
   "source": [
    "Data were split using a 3:1:1 ratio, resulting in 6000 entries for training and 2000 entries each of validation and final testing. "
   ]
  },
  {
   "cell_type": "code",
   "execution_count": 7,
   "metadata": {},
   "outputs": [
    {
     "name": "stdout",
     "output_type": "stream",
     "text": [
      "Shape of Training Set: (6000, 12)\n",
      "Shape of Validation Set: (2000, 12)\n",
      "Shape of Test Set: (2000, 12)\n"
     ]
    }
   ],
   "source": [
    "df_clean = df.drop(['RowNumber', 'CustomerId', 'Surname'], axis = 1)\n",
    "df_ohe = pd.get_dummies(df_clean, drop_first=True)\n",
    "\n",
    "\n",
    "train_valid, df_test = train_test_split(df_ohe, test_size = 0.20, random_state=42)\n",
    "df_train, df_valid = train_test_split(train_valid, test_size=0.25, random_state=42)\n",
    "\n",
    "\n",
    "print(f'Shape of Training Set: {df_train.shape}')\n",
    "print(f'Shape of Validation Set: {df_valid.shape}')\n",
    "print(f'Shape of Test Set: {df_test.shape}')"
   ]
  },
  {
   "cell_type": "code",
   "execution_count": 8,
   "metadata": {},
   "outputs": [],
   "source": [
    "\n",
    "features_train = df_train.drop('Exited', axis=1)\n",
    "target_train = df_train['Exited']\n",
    "\n",
    "features_valid = df_valid.drop('Exited', axis=1)\n",
    "target_valid = df_valid['Exited']\n",
    "\n",
    "features_test = df_test.drop('Exited', axis=1)\n",
    "target_test = df_test['Exited']\n"
   ]
  },
  {
   "cell_type": "markdown",
   "metadata": {},
   "source": [
    "## Initial Model Training (Without Regard to Class Balance)\n",
    "\n",
    "Data were first fit using `GridSearchCV` on models with n_estimator of size 100, 200, 300, 500, 600, and 700 with tree depths 5 to 20 (increasing by 5's). The best model from this round (n-estimator size: 200, depth: 20) resulted in a F1 score of 0.609 when test against the validation data. While this as already past our threshold, futher testing were performed in attempt to improve the model.\n",
    "\n",
    "A second round of interations were performed. This time with n-estimator sizes from 125 to 275 (increasing by 25 step-wise) and with tree depths 5 to 20 (increasing by 5's). The best model from this round (n-estimator size: 250, depth: 20) resulted in a slightly improved accuracy score of 0.612 when test against the validation data. \n",
    "\n",
    "To maintain consistency with later model testing we overrode the '5-fold' method of `GridSearchCV` and explicitly passed it our prior separated training and validation data. "
   ]
  },
  {
   "cell_type": "code",
   "execution_count": 9,
   "metadata": {},
   "outputs": [],
   "source": [
    "def best_params (param_grid):\n",
    "    \n",
    "    X_combined = pd.concat([features_train, features_valid])\n",
    "    y_combined = pd.concat([target_train, target_valid])\n",
    "    \n",
    "    train_idx = np.arange(len(features_train))\n",
    "    valid_idx = np.arange(len(features_train), len(X_combined))\n",
    "    \n",
    "    grid_search = GridSearchCV(\n",
    "        estimator=RandomForestClassifier(random_state=42),\n",
    "        param_grid=param_grid,\n",
    "        scoring=make_scorer(f1_score),\n",
    "        cv=[(train_idx, valid_idx)],\n",
    "        n_jobs=-2,\n",
    "        verbose=0,\n",
    "        refit=False\n",
    "    )\n",
    "    \n",
    "    grid_search.fit(X_combined, y_combined)\n",
    "    \n",
    "    best_f1 = grid_search.best_score_\n",
    "    best_params = grid_search.best_params_\n",
    "    \n",
    "    return(\"Best F1:\", best_f1, \"Best params:\", best_params)"
   ]
  },
  {
   "cell_type": "code",
   "execution_count": 10,
   "metadata": {},
   "outputs": [
    {
     "name": "stdout",
     "output_type": "stream",
     "text": [
      "('Best F1:', 0.6085672082717873, 'Best params:', {'max_depth': 20, 'n_estimators': 200})\n"
     ]
    }
   ],
   "source": [
    "param_grid1 = {\n",
    "    'n_estimators': [100, 200, 300, 400, 500, 600, 700],\n",
    "    'max_depth': [5, 10, 15, 20] \n",
    "}\n",
    "\n",
    "print(best_params (param_grid1))"
   ]
  },
  {
   "cell_type": "code",
   "execution_count": 11,
   "metadata": {},
   "outputs": [
    {
     "name": "stdout",
     "output_type": "stream",
     "text": [
      "('Best F1:', 0.612184249628529, 'Best params:', {'max_depth': 20, 'n_estimators': 250})\n"
     ]
    }
   ],
   "source": [
    "param_grid2 = {\n",
    "    'n_estimators': [125, 150, 175, 200, 225, 250, 275],\n",
    "    'max_depth': [5, 10, 15, 20] \n",
    "}\n",
    "\n",
    "print(best_params (param_grid2))"
   ]
  },
  {
   "cell_type": "markdown",
   "metadata": {},
   "source": [
    "\n",
    "## Adjusting for Class Imbalances\n",
    "\n",
    "From initial data exploration, we know that only 20.4% of customers left the bank. To account for this class inbalance, we maintained our prior hyperparmenters, this time balancing class weights and iterating through downsampling our negative case to 70%, 50%, and 20% of all cases; and upsampling positive cases by a factor of x2, x5, and x10.  \n",
    "\n",
    "When test against validation data class adjustments resulting in F1 Score of:  \n",
    "- Balanced Class Weights:  0.599\n",
    "- Downsample 0s to 70%:    0.618\n",
    "- Downsample 0s to 50%:    **0.637**\n",
    "- Downsample 0s to 20%:    0.571\n",
    "- Upsample 1s x2 F1 Score: 0.622\n",
    "- Upsample 1s x5 F1 Score: 0.616\n",
    "- Upsample 1s x10 F1 Score: 0.623\n",
    "\n",
    "Of these models, downsampling negative cases (customer retention) by 50% resulted in the highest F1 Score (0.637). \n",
    "\n",
    "### Balanced Weights"
   ]
  },
  {
   "cell_type": "code",
   "execution_count": 12,
   "metadata": {},
   "outputs": [
    {
     "name": "stdout",
     "output_type": "stream",
     "text": [
      "Balanced Class Weights F1 Score: 0.5907046476761619\n"
     ]
    }
   ],
   "source": [
    "balanced_model = RandomForestClassifier(random_state = 42, n_estimators = 250, max_depth= 20, class_weight='balanced')\n",
    "balanced_model.fit(features_train, target_train)\n",
    "predicted = balanced_model.predict(features_valid)\n",
    "bal_score = f1_score(target_valid, predicted)\n",
    "print(f'Balanced Class Weights F1 Score: {bal_score}')\n"
   ]
  },
  {
   "cell_type": "markdown",
   "metadata": {},
   "source": [
    "### Up and Down Sampling"
   ]
  },
  {
   "cell_type": "code",
   "execution_count": 13,
   "metadata": {},
   "outputs": [],
   "source": [
    "# define methods downsample_zeros and upsample_ones\n",
    "\n",
    "def downsample_zeros(features, target, fraction):\n",
    "    features_zeros = features[target == 0]\n",
    "    features_ones = features[target == 1]\n",
    "    target_zeros = target[target == 0]\n",
    "    target_ones = target[target == 1]\n",
    "\n",
    "    features_downsampled = pd.concat(\n",
    "        [features_zeros.sample(frac=fraction, random_state=42)] + [features_ones])\n",
    "    target_downsampled = pd.concat(\n",
    "        [target_zeros.sample(frac=fraction, random_state=42)] + [target_ones])\n",
    "\n",
    "    features_downsampled, target_downsampled = shuffle(\n",
    "        features_downsampled, target_downsampled, random_state=42)\n",
    "\n",
    "    return features_downsampled, target_downsampled\n",
    "\n",
    "\n",
    "\n",
    "def upsample_ones(features, target, repeat):\n",
    "    features_zeros = features[target == 0]\n",
    "    features_ones = features[target == 1]\n",
    "    target_zeros = target[target == 0]\n",
    "    target_ones = target[target == 1]\n",
    "\n",
    "    features_upsampled = pd.concat([features_zeros] + [features_ones] * repeat)\n",
    "    target_upsampled = pd.concat([target_zeros] + [target_ones] * repeat)\n",
    "\n",
    "    features_upsampled, target_upsampled = shuffle(\n",
    "        features_upsampled, target_upsampled, random_state=42)\n",
    "\n",
    "    return features_upsampled, target_upsampled\n"
   ]
  },
  {
   "cell_type": "code",
   "execution_count": 14,
   "metadata": {},
   "outputs": [
    {
     "name": "stdout",
     "output_type": "stream",
     "text": [
      "Downsample 0s to 70% F1 Score: 0.617687074829932\n",
      "{0: 3338, 1: 1231}\n",
      "\n",
      "Downsample 0s to 50% F1 Score: 0.6371463714637147\n",
      "{0: 2384, 1: 1231}\n",
      "\n",
      "Downsample 0s to 20% F1 Score: 0.5709342560553633\n",
      "{1: 1231, 0: 954}\n",
      "\n",
      "Upsample 1s x2 F1 Score: 0.6218034993270525\n",
      "{0: 4769, 1: 2462}\n",
      "\n",
      "Upsample 1s x5 F1 Score: 0.6157826649417852\n",
      "{1: 6155, 0: 4769}\n",
      "\n",
      "Upsample 1s x10 F1 Score: 0.6229086229086229\n",
      "{1: 12310, 0: 4769}\n",
      "\n"
     ]
    }
   ],
   "source": [
    "rebal_methods = [\n",
    "    ('Downsample 0s to 70%',  'under', 0.7),\n",
    "    ('Downsample 0s to 50%',  'under', 0.5),\n",
    "    ('Downsample 0s to 20%',  'under', 0.2),\n",
    "    ('Upsample 1s x2',    'over',  2),\n",
    "    ('Upsample 1s x5',    'over',  5),\n",
    "    ('Upsample 1s x10',    'over',  10),\n",
    "]\n",
    "\n",
    "for name, method, frac in rebal_methods:\n",
    "    x_rebal, y_rebal = features_train, target_train\n",
    "\n",
    "    if method == 'under':\n",
    "        x_rebal, y_rebal = downsample_zeros(x_rebal, y_rebal,frac)\n",
    "        rebal_model = RandomForestClassifier(random_state = 42, n_estimators = 250, max_depth= 20)\n",
    "        rebal_model.fit(x_rebal, y_rebal)\n",
    "        predicted = rebal_model.predict(features_valid)\n",
    "        bal_score = score = f1_score(target_valid, predicted)\n",
    "        print(f'{name} F1 Score: {bal_score}')\n",
    "        print(y_rebal.value_counts().to_dict())\n",
    "        print()\n",
    "\n",
    "    elif method == 'over':\n",
    "        x_rebal, y_rebal = upsample_ones(x_rebal, y_rebal,frac)\n",
    "        rebal_model = RandomForestClassifier(random_state = 42, n_estimators = 250, max_depth= 20)\n",
    "        rebal_model.fit(x_rebal, y_rebal)\n",
    "        predicted = rebal_model.predict(features_valid)\n",
    "        bal_score = score = f1_score(target_valid, predicted)\n",
    "        print(f'{name} F1 Score: {bal_score}')\n",
    "        print(y_rebal.value_counts().to_dict())\n",
    "        print()\n",
    "\n"
   ]
  },
  {
   "cell_type": "markdown",
   "metadata": {},
   "source": [
    "## Threshold Adjustments\n",
    "\n",
    "To further assess the percision and recall of our models, we iterated through thresholds for predicting the positive case -- 0.0 to 1.0 stepwise by 0.0125. The ROC curve was also plotted for our the model without regard to class balance.\n",
    "\n",
    "### Adjustments without Regard to Class Balance\n",
    "\n",
    "The AUC_ROC for our model without adjusting for class balance was 0.861, showing that the model is well able to discriminate between cases. "
   ]
  },
  {
   "cell_type": "code",
   "execution_count": 15,
   "metadata": {},
   "outputs": [
    {
     "data": {
      "image/png": "[encoded data removed]",
      "text/plain": [
       "<Figure size 400x300 with 1 Axes>"
      ]
     },
     "metadata": {},
     "output_type": "display_data"
    },
    {
     "name": "stdout",
     "output_type": "stream",
     "text": [
      "AUC-ROC for Classifier w/ Estimators = 250  Depth = 20 : 0.8614659666692603\n"
     ]
    }
   ],
   "source": [
    "model_forest = RandomForestClassifier(random_state = 42, n_estimators = 250, max_depth= 20)\n",
    "\n",
    "model_forest.fit(features_train, target_train)\n",
    "\n",
    "probabilities_valid = model_forest.predict_proba(features_valid)\n",
    "probabilities_one_valid = probabilities_valid[:, 1]\n",
    "\n",
    "auc_roc = roc_auc_score(target_valid, probabilities_one_valid)\n",
    "\n",
    "fpr, tpr, thresholds = roc_curve(target_valid, probabilities_one_valid)\n",
    "\n",
    "plt.figure(figsize=[4,3])\n",
    "plt.plot(fpr,tpr)\n",
    "plt.plot([0, 1], [0, 1], linestyle='--')\n",
    "\n",
    "plt.xlim([0,1])\n",
    "plt.ylim([0,1])\n",
    "\n",
    "plt.xlabel(\"False Positive Rate\")\n",
    "plt.ylabel(\"True Positive Rate\")\n",
    "plt.title('ROC curve') \n",
    "plt.show()\n",
    "        \n",
    "print (f'AUC-ROC for Classifier w/ Estimators = 250  Depth = 20 : {auc_roc}')"
   ]
  },
  {
   "cell_type": "code",
   "execution_count": 16,
   "metadata": {},
   "outputs": [
    {
     "name": "stdout",
     "output_type": "stream",
     "text": [
      "Best Threshold: 0.388    F1 Score:    0.6343949044585987\n",
      "TPR= 0.6029055690072639    FPR = 0.07750472589792061\n"
     ]
    }
   ],
   "source": [
    "best_threshold = 0.5\n",
    "best_f1 = 0 \n",
    "\n",
    "for threshold in np.arange(0, 1, 0.0125):\n",
    "    predicted = probabilities_one_valid > threshold\n",
    "    tresh_f1 = f1_score(target_valid, predicted)\n",
    "    if tresh_f1 > best_f1:\n",
    "        best_f1 = tresh_f1\n",
    "        best_threshold = threshold\n",
    "\n",
    "print(f'Best Threshold: {best_threshold.round(3)}    F1 Score:    {best_f1}')\n",
    "\n",
    "\n",
    "predicted = probabilities_one_valid > best_threshold\n",
    "\n",
    "\n",
    "tn, fp, fn, tp = confusion_matrix(target_valid, predicted).ravel()\n",
    "\n",
    "bestf1_TPR = tp / (tp + fn)\n",
    "bestf1_FPR = fp / (fp + tn)\n",
    "\n",
    "\n",
    "print(f'TPR= {bestf1_TPR}    FPR = {bestf1_FPR}')\n"
   ]
  },
  {
   "cell_type": "markdown",
   "metadata": {},
   "source": [
    "### Adjusting Thresholds and Class Balance\n",
    "\n",
    "Smaller threshold increases (0.0 to 1.0 stepwise by 0.00625) was then applied to each of our class balance readjustments. All results are presented below, however notable models include:\n",
    "\n",
    "- Downsampling 0s to 70% with max F1 at threshold of 0.45\n",
    "    - F1 Score:    0.635 &  AUC-ROC:  0.863\n",
    "- Downsampling 0s to 50% with with with max F1 at threshold of 0.5125\n",
    "    - F1 Score:    0.642 &    AUC-ROC:  0.862\n",
    "- Upsampling 1s x10 with a with max F1 at threshold of 0.49375\n",
    "    - F1 Score:    0.6309067688378034  &  AUC_ROC:  0.8610387668572284\n",
    "\n",
    "While downsampling our negative cases to 50% of training data resulted in the highest F1 score, it did so with a max F1 at a threshold of 0.5125 meaning that it was less inclined to identify positive cases (the metric we want). Because we want to identify all many customers as possible before they leave the bank, we are willing to accept a model that is more aggresive at identifying positive cases. \n",
    "\n",
    "Accordingly, downsampling the negative cases to 70% results in a max F1 at a threshold of 0.45. This model is more inclined to predict customers leaving the bank. \n",
    "\n",
    "Notably, upsampling positive cases did not result in notable model improvements until positive cases were multiplied 10 fold {1: 12310, 0: 4769}. This increases the risk of overfitting, so unsampled models were not considered. "
   ]
  },
  {
   "cell_type": "code",
   "execution_count": 17,
   "metadata": {},
   "outputs": [
    {
     "name": "stdout",
     "output_type": "stream",
     "text": [
      "Best Threshold using Balanced Classes:     0.95625    F1 Score:    0.004830917874396135\n",
      "AUC_ROC:  0.8654618106253749\n"
     ]
    }
   ],
   "source": [
    "probabilities_bal = balanced_model.predict_proba(features_valid)\n",
    "probabilities_one_bal = probabilities_bal[:, 1]\n",
    "\n",
    "best_f1 = 0\n",
    "\n",
    "for threshold in np.arange(0, 1, 0.00625):\n",
    "        predicted = probabilities_one_bal > threshold\n",
    "        bal_f1 = f1_score(target_valid, predicted)\n",
    "        if bal_f1 > best_f1:\n",
    "            best_f1 = tresh_f1\n",
    "            best_threshold = threshold\n",
    "\n",
    "print(f'Best Threshold using Balanced Classes:     {best_threshold.round(6)}    F1 Score:    {best_f1}')\n",
    "print('AUC_ROC: ',roc_auc_score(target_valid, probabilities_one_bal))"
   ]
  },
  {
   "cell_type": "code",
   "execution_count": 18,
   "metadata": {},
   "outputs": [
    {
     "name": "stdout",
     "output_type": "stream",
     "text": [
      "Best Threshold using Downsample 0s to 70%:     0.45    F1 Score:    0.6345177664974619\n",
      "AUC_ROC:  0.8625660061852432\n",
      "\n",
      "Best Threshold using Downsample 0s to 50%:     0.5125    F1 Score:    0.6416978776529338\n",
      "AUC_ROC:  0.8622646777463989\n",
      "\n",
      "Best Threshold using Downsample 0s to 20%:     0.73125    F1 Score:    0.6034255599472991\n",
      "AUC_ROC:  0.8522323478749099\n",
      "\n",
      "Best Threshold using Upsample 1s x2:     0.46875    F1 Score:    0.6284224250325945\n",
      "AUC_ROC:  0.8594680446912032\n",
      "\n",
      "Best Threshold using Upsample 1s x5:     0.4125    F1 Score:    0.62877030162413\n",
      "AUC_ROC:  0.8636568914195392\n",
      "\n",
      "Best Threshold using Upsample 1s x10:     0.49375    F1 Score:    0.6309067688378033\n",
      "AUC_ROC:  0.8610387668572284\n",
      "\n"
     ]
    }
   ],
   "source": [
    "for name, method, frac in rebal_methods:\n",
    "    x_rebal, y_rebal = features_train, target_train\n",
    "    if method == 'under':\n",
    "        x_rebal, y_rebal = downsample_zeros(x_rebal, y_rebal,frac)\n",
    "        rebal_model = RandomForestClassifier(random_state = 42, n_estimators = 250, max_depth= 20)\n",
    "        rebal_model.fit(x_rebal, y_rebal)\n",
    "\n",
    "    elif method == 'over':\n",
    "        x_rebal, y_rebal = upsample_ones(x_rebal, y_rebal,frac)\n",
    "        rebal_model = RandomForestClassifier(random_state = 42, n_estimators = 250, max_depth= 20)\n",
    "        rebal_model.fit(x_rebal, y_rebal)\n",
    "\n",
    "    best_threshold = 0.5\n",
    "    best_f1 = 0 \n",
    "\n",
    "    probabilities_valid = rebal_model.predict_proba(features_valid)\n",
    "    probabilities_one_valid = probabilities_valid[:, 1]\n",
    "    \n",
    "    for threshold in np.arange(0, 1, 0.00625):\n",
    "        predicted = probabilities_one_valid > threshold\n",
    "        tresh_f1 = f1_score(target_valid, predicted)\n",
    "        if tresh_f1 > best_f1:\n",
    "            best_f1 = tresh_f1\n",
    "            best_threshold = threshold\n",
    "    \n",
    "    print(f'Best Threshold using {name}:     {best_threshold.round(6)}    F1 Score:    {best_f1}')\n",
    "    print('AUC_ROC: ',roc_auc_score(target_valid, probabilities_one_valid))\n",
    "    print()"
   ]
  },
  {
   "cell_type": "markdown",
   "metadata": {},
   "source": [
    "## Final Model Testing"
   ]
  },
  {
   "cell_type": "code",
   "execution_count": 19,
   "metadata": {},
   "outputs": [
    {
     "name": "stdout",
     "output_type": "stream",
     "text": [
      "F1 of Final Model: 0.6197916666666666\n",
      "Validation TPR= 0.605    Validation FPR = 0.079\n",
      "Final Test TPR = 0.606    Final Test FPR = 0.085\n"
     ]
    }
   ],
   "source": [
    "x_rebal, y_rebal = downsample_zeros(features_train, target_train, 0.7)\n",
    "final_model = RandomForestClassifier(random_state = 42, n_estimators = 250, max_depth=20)\n",
    "final_model.fit(x_rebal, y_rebal)\n",
    "\n",
    "probabilities_test = final_model.predict_proba(features_test)\n",
    "probabilities_one_test = probabilities_test[:, 1]\n",
    "predicted_test = probabilities_one_test > 0.45\n",
    "final_f1 = f1_score(target_test, predicted_test)\n",
    "\n",
    "print(f'F1 of Final Model: {final_f1}')\n",
    "\n",
    "probabilities_valid = final_model.predict_proba(features_valid)\n",
    "probabilities_one_valid = probabilities_valid[:, 1]\n",
    "predicted_valid = probabilities_one_valid > 0.45\n",
    "\n",
    "val_tn, val_fp, val_fn, val_tp = confusion_matrix(target_valid, predicted_valid).ravel()\n",
    "val_TPR = val_tp / (val_tp + val_fn)\n",
    "val_FPR = val_fp / (val_fp + val_tn)\n",
    "print(f'Validation TPR= {val_TPR.round(3)}    Validation FPR = {val_FPR.round(3)}')\n",
    "\n",
    "tn, fp, fn, tp = confusion_matrix(target_test, predicted_test).ravel()\n",
    "test_TPR = tp / (tp + fn)\n",
    "test_FPR = fp / (fp + tn)\n",
    "\n",
    "print(f'Final Test TPR = {test_TPR.round(3)}    Final Test FPR = {test_FPR.round(3)}')"
   ]
  },
  {
   "cell_type": "markdown",
   "metadata": {},
   "source": [
    "# Conclusion\n",
    "\n",
    "For the reasons mentioned above, the final parameters chosen for our model were:\n",
    "- Downsampling negative cases to 70% of total training data\n",
    "- n-estimators = 250\n",
    "- max_depth = 20\n",
    "- Prediction Threshold for Positive Case: 0.45\n",
    "\n",
    "When test against the reserved testing data, our model yeildied a F1 score of 0.620, exceeding our accuracy measure of 0.59.\n",
    "\n",
    "While our score is lower than prior F1 tests, this can be attributed to a higher FPR (0.085 v 0.079 from validation testing) and a slightly improved TPR (0.606 v 0.605 from validation testing). In the context of our project, where wish to identify more potential customers who may leave, this is a desirable outcome. As similar positive cases were correctly identified in validation and final testing, our model passes the sanity test. \n",
    "\n",
    "Having passed final accuracy and sanity testing, out model is ready for delivery to our retention project teams. \n"
   ]
  }
 ],
 "metadata": {
  "kernelspec": {
   "display_name": "base",
   "language": "python",
   "name": "python3"
  },
  "language_info": {
   "codemirror_mode": {
    "name": "ipython",
    "version": 3
   },
   "file_extension": ".py",
   "mimetype": "text/x-python",
   "name": "python",
   "nbconvert_exporter": "python",
   "pygments_lexer": "ipython3",
   "version": "3.12.7"
  }
 },
 "nbformat": 4,
 "nbformat_minor": 4
}
