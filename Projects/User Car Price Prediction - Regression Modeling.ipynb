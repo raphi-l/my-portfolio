{
 "cells": [
  {
   "cell_type": "code",
   "execution_count": 2,
   "metadata": {
    "id": "i72vCjqZg_YB"
   },
   "outputs": [],
   "source": [
    "import pandas as pd\n",
    "import time\n",
    "from datetime import datetime\n",
    "import lightgbm as lgb\n",
    "import numpy as np\n",
    "import re\n",
    "from sklearn.impute import KNNImputer\n",
    "from sklearn.preprocessing import StandardScaler\n",
    "from sklearn.model_selection import train_test_split, RandomizedSearchCV, GridSearchCV\n",
    "from sklearn.ensemble import RandomForestRegressor\n",
    "from sklearn.metrics import mean_squared_error, make_scorer\n",
    "from sklearn.linear_model import LinearRegression"
   ]
  },
  {
   "cell_type": "markdown",
   "metadata": {
    "id": "B-CKXyYCg_YG"
   },
   "source": [
    "# Introduction\n",
    "\n",
    "The purpose of this project is to help Rusty Bargain used car sales servic develop an app to attract new customers. \n",
    "\n",
    "The aims is to enable customers to quickly find out the market value of their car. Using historical data on technical specifications, trim versions, and prices, we will train multiple models to predict price. \n",
    "\n",
    "Specifically, we will explore LGBMRegressor, RandomForestRegressor, LinearRegression, and XGBoost. Hyperparamter tuning will be done using RandomGridSearchCV. \n",
    "\n",
    "For each model, we will also assess the quality of the prediction (using RMSE), prediction speed, and training speed. "
   ]
  },
  {
   "cell_type": "markdown",
   "metadata": {
    "id": "MF3kupJZg_YI"
   },
   "source": [
    "## Data preparation\n",
    "\n",
    "Summary of Data Preparation\n",
    "* Feature names converted to snake_case\n",
    "* Date\n",
    "     * Taking into account that VIN registration was not standardized in the US until 1954 and our latest crawled account was in 2016, we re-coded cars with registration years out of this range as `NaN`\n",
    "     * Account age was calcuated by taking the timedelta from account creation to last known activity\n",
    "     * Estimated car age was calculated by subtracting year of account creation from year of car registration\n",
    "* Zip codes were converted to dtype object/str and then aggregated using US Postal Code Zip-1 format\n",
    "     * Aggregates 8143 zip codes to 10 national regions\n",
    "* Models and Brands\n",
    "  * For LightGBM data-preprocepting, we take advantage of the regressors ability to handle catagorical data and cast type `objec` to `category`.\n",
    "  * For other regressors, we originally attempted to encode car models and brands using one-hot-encoding, however ran into time/resource limitations while training. \n",
    "  * As an alternative, we tranform `brands` and `models` to scalars by calculating their proportion of the total car inventory history (value count / N).\n",
    "  * Assuming car `model` implies car make (`brand`), separate dataframes were created with and without car `brand`\n",
    "     * We will test whether inclusion is impactful on our models\n",
    "* For linear regression analysis (and additional RandomForest, and XGBoost modeling) catagorical features were one-hot-encoded and stored in `linear_cars_df` (and `linear_cars_make_drop_df`)"
   ]
  },
  {
   "cell_type": "code",
   "execution_count": 46,
   "metadata": {
    "id": "oUnSQxh0g_YI"
   },
   "outputs": [],
   "source": [
    "cars_df = pd.read_csv('https://practicum-content.s3.us-west-1.amazonaws.com/datasets/car_data.csv')"
   ]
  },
  {
   "cell_type": "markdown",
   "metadata": {},
   "source": [
    "#### Initial Data View"
   ]
  },
  {
   "cell_type": "code",
   "execution_count": 47,
   "metadata": {
    "colab": {
     "base_uri": "https://localhost:8080/",
     "height": 790
    },
    "id": "vBr9Dn-dg_YJ",
    "outputId": "5cd5084d-0015-42ba-89ec-d87d9b3f44e3"
   },
   "outputs": [
    {
     "data": {
      "text/html": [
       "<div>\n",
       "<style scoped>\n",
       "    .dataframe tbody tr th:only-of-type {\n",
       "        vertical-align: middle;\n",
       "    }\n",
       "\n",
       "    .dataframe tbody tr th {\n",
       "        vertical-align: top;\n",
       "    }\n",
       "\n",
       "    .dataframe thead th {\n",
       "        text-align: right;\n",
       "    }\n",
       "</style>\n",
       "<table border=\"1\" class=\"dataframe\">\n",
       "  <thead>\n",
       "    <tr style=\"text-align: right;\">\n",
       "      <th></th>\n",
       "      <th>DateCrawled</th>\n",
       "      <th>Price</th>\n",
       "      <th>VehicleType</th>\n",
       "      <th>RegistrationYear</th>\n",
       "      <th>Gearbox</th>\n",
       "      <th>Power</th>\n",
       "      <th>Model</th>\n",
       "      <th>Mileage</th>\n",
       "      <th>RegistrationMonth</th>\n",
       "      <th>FuelType</th>\n",
       "      <th>Brand</th>\n",
       "      <th>NotRepaired</th>\n",
       "      <th>DateCreated</th>\n",
       "      <th>NumberOfPictures</th>\n",
       "      <th>PostalCode</th>\n",
       "      <th>LastSeen</th>\n",
       "    </tr>\n",
       "  </thead>\n",
       "  <tbody>\n",
       "    <tr>\n",
       "      <th>0</th>\n",
       "      <td>24/03/2016 11:52</td>\n",
       "      <td>480</td>\n",
       "      <td>NaN</td>\n",
       "      <td>1993</td>\n",
       "      <td>manual</td>\n",
       "      <td>0</td>\n",
       "      <td>golf</td>\n",
       "      <td>150000</td>\n",
       "      <td>0</td>\n",
       "      <td>petrol</td>\n",
       "      <td>volkswagen</td>\n",
       "      <td>NaN</td>\n",
       "      <td>24/03/2016 00:00</td>\n",
       "      <td>0</td>\n",
       "      <td>70435</td>\n",
       "      <td>07/04/2016 03:16</td>\n",
       "    </tr>\n",
       "    <tr>\n",
       "      <th>1</th>\n",
       "      <td>24/03/2016 10:58</td>\n",
       "      <td>18300</td>\n",
       "      <td>coupe</td>\n",
       "      <td>2011</td>\n",
       "      <td>manual</td>\n",
       "      <td>190</td>\n",
       "      <td>NaN</td>\n",
       "      <td>125000</td>\n",
       "      <td>5</td>\n",
       "      <td>gasoline</td>\n",
       "      <td>audi</td>\n",
       "      <td>yes</td>\n",
       "      <td>24/03/2016 00:00</td>\n",
       "      <td>0</td>\n",
       "      <td>66954</td>\n",
       "      <td>07/04/2016 01:46</td>\n",
       "    </tr>\n",
       "    <tr>\n",
       "      <th>2</th>\n",
       "      <td>14/03/2016 12:52</td>\n",
       "      <td>9800</td>\n",
       "      <td>suv</td>\n",
       "      <td>2004</td>\n",
       "      <td>auto</td>\n",
       "      <td>163</td>\n",
       "      <td>grand</td>\n",
       "      <td>125000</td>\n",
       "      <td>8</td>\n",
       "      <td>gasoline</td>\n",
       "      <td>jeep</td>\n",
       "      <td>NaN</td>\n",
       "      <td>14/03/2016 00:00</td>\n",
       "      <td>0</td>\n",
       "      <td>90480</td>\n",
       "      <td>05/04/2016 12:47</td>\n",
       "    </tr>\n",
       "    <tr>\n",
       "      <th>3</th>\n",
       "      <td>17/03/2016 16:54</td>\n",
       "      <td>1500</td>\n",
       "      <td>small</td>\n",
       "      <td>2001</td>\n",
       "      <td>manual</td>\n",
       "      <td>75</td>\n",
       "      <td>golf</td>\n",
       "      <td>150000</td>\n",
       "      <td>6</td>\n",
       "      <td>petrol</td>\n",
       "      <td>volkswagen</td>\n",
       "      <td>no</td>\n",
       "      <td>17/03/2016 00:00</td>\n",
       "      <td>0</td>\n",
       "      <td>91074</td>\n",
       "      <td>17/03/2016 17:40</td>\n",
       "    </tr>\n",
       "    <tr>\n",
       "      <th>4</th>\n",
       "      <td>31/03/2016 17:25</td>\n",
       "      <td>3600</td>\n",
       "      <td>small</td>\n",
       "      <td>2008</td>\n",
       "      <td>manual</td>\n",
       "      <td>69</td>\n",
       "      <td>fabia</td>\n",
       "      <td>90000</td>\n",
       "      <td>7</td>\n",
       "      <td>gasoline</td>\n",
       "      <td>skoda</td>\n",
       "      <td>no</td>\n",
       "      <td>31/03/2016 00:00</td>\n",
       "      <td>0</td>\n",
       "      <td>60437</td>\n",
       "      <td>06/04/2016 10:17</td>\n",
       "    </tr>\n",
       "    <tr>\n",
       "      <th>5</th>\n",
       "      <td>04/04/2016 17:36</td>\n",
       "      <td>650</td>\n",
       "      <td>sedan</td>\n",
       "      <td>1995</td>\n",
       "      <td>manual</td>\n",
       "      <td>102</td>\n",
       "      <td>3er</td>\n",
       "      <td>150000</td>\n",
       "      <td>10</td>\n",
       "      <td>petrol</td>\n",
       "      <td>bmw</td>\n",
       "      <td>yes</td>\n",
       "      <td>04/04/2016 00:00</td>\n",
       "      <td>0</td>\n",
       "      <td>33775</td>\n",
       "      <td>06/04/2016 19:17</td>\n",
       "    </tr>\n",
       "  </tbody>\n",
       "</table>\n",
       "</div>"
      ],
      "text/plain": [
       "        DateCrawled  Price VehicleType  RegistrationYear Gearbox  Power  \\\n",
       "0  24/03/2016 11:52    480         NaN              1993  manual      0   \n",
       "1  24/03/2016 10:58  18300       coupe              2011  manual    190   \n",
       "2  14/03/2016 12:52   9800         suv              2004    auto    163   \n",
       "3  17/03/2016 16:54   1500       small              2001  manual     75   \n",
       "4  31/03/2016 17:25   3600       small              2008  manual     69   \n",
       "5  04/04/2016 17:36    650       sedan              1995  manual    102   \n",
       "\n",
       "   Model  Mileage  RegistrationMonth  FuelType       Brand NotRepaired  \\\n",
       "0   golf   150000                  0    petrol  volkswagen         NaN   \n",
       "1    NaN   125000                  5  gasoline        audi         yes   \n",
       "2  grand   125000                  8  gasoline        jeep         NaN   \n",
       "3   golf   150000                  6    petrol  volkswagen          no   \n",
       "4  fabia    90000                  7  gasoline       skoda          no   \n",
       "5    3er   150000                 10    petrol         bmw         yes   \n",
       "\n",
       "        DateCreated  NumberOfPictures  PostalCode          LastSeen  \n",
       "0  24/03/2016 00:00                 0       70435  07/04/2016 03:16  \n",
       "1  24/03/2016 00:00                 0       66954  07/04/2016 01:46  \n",
       "2  14/03/2016 00:00                 0       90480  05/04/2016 12:47  \n",
       "3  17/03/2016 00:00                 0       91074  17/03/2016 17:40  \n",
       "4  31/03/2016 00:00                 0       60437  06/04/2016 10:17  \n",
       "5  04/04/2016 00:00                 0       33775  06/04/2016 19:17  "
      ]
     },
     "metadata": {},
     "output_type": "display_data"
    },
    {
     "name": "stdout",
     "output_type": "stream",
     "text": [
      "<class 'pandas.core.frame.DataFrame'>\n",
      "RangeIndex: 354369 entries, 0 to 354368\n",
      "Data columns (total 16 columns):\n",
      " #   Column             Non-Null Count   Dtype \n",
      "---  ------             --------------   ----- \n",
      " 0   DateCrawled        354369 non-null  object\n",
      " 1   Price              354369 non-null  int64 \n",
      " 2   VehicleType        316879 non-null  object\n",
      " 3   RegistrationYear   354369 non-null  int64 \n",
      " 4   Gearbox            334536 non-null  object\n",
      " 5   Power              354369 non-null  int64 \n",
      " 6   Model              334664 non-null  object\n",
      " 7   Mileage            354369 non-null  int64 \n",
      " 8   RegistrationMonth  354369 non-null  int64 \n",
      " 9   FuelType           321474 non-null  object\n",
      " 10  Brand              354369 non-null  object\n",
      " 11  NotRepaired        283215 non-null  object\n",
      " 12  DateCreated        354369 non-null  object\n",
      " 13  NumberOfPictures   354369 non-null  int64 \n",
      " 14  PostalCode         354369 non-null  int64 \n",
      " 15  LastSeen           354369 non-null  object\n",
      "dtypes: int64(7), object(9)\n",
      "memory usage: 43.3+ MB\n",
      "None\n",
      "\n",
      "count    354369.000000\n",
      "mean       4416.656776\n",
      "std        4514.158514\n",
      "min           0.000000\n",
      "25%        1050.000000\n",
      "50%        2700.000000\n",
      "75%        6400.000000\n",
      "max       20000.000000\n",
      "Name: Price, dtype: float64\n"
     ]
    }
   ],
   "source": [
    "display(cars_df.head(6))\n",
    "print(cars_df.info())\n",
    "print()\n",
    "print(cars_df['Price'].describe())"
   ]
  },
  {
   "cell_type": "markdown",
   "metadata": {
    "id": "I5AGinvbRjVV"
   },
   "source": [
    "#### Change to snake_case"
   ]
  },
  {
   "cell_type": "code",
   "execution_count": 5,
   "metadata": {
    "colab": {
     "base_uri": "https://localhost:8080/"
    },
    "id": "4lGNQpvng_YK",
    "outputId": "5e426c4d-90bb-4326-aa2c-128c30f1ace9"
   },
   "outputs": [
    {
     "name": "stdout",
     "output_type": "stream",
     "text": [
      "Index(['date_crawled', 'price', 'vehicle_type', 'registration_year', 'gearbox',\n",
      "       'power', 'model', 'mileage', 'registration_month', 'fuel_type', 'brand',\n",
      "       'not_repaired', 'date_created', 'number_of_pictures', 'postal_code',\n",
      "       'last_seen'],\n",
      "      dtype='object')\n"
     ]
    }
   ],
   "source": [
    "def camel_to_snake(name):\n",
    "    s1 = re.sub('(.)([A-Z][a-z]+)', r'\\1_\\2', name)\n",
    "    return re.sub('([a-z0-9])([A-Z])', r'\\1_\\2', s1).lower()\n",
    "\n",
    "cars_df.columns = [camel_to_snake(col) for col in cars_df.columns]\n",
    "print(cars_df.columns)"
   ]
  },
  {
   "cell_type": "markdown",
   "metadata": {},
   "source": [
    "#### Missing Model Name"
   ]
  },
  {
   "cell_type": "code",
   "execution_count": 6,
   "metadata": {
    "id": "61opQJtAAR-a"
   },
   "outputs": [],
   "source": [
    "cars_df.loc[cars_df['model'].isna(), 'model'] = 'missing'"
   ]
  },
  {
   "cell_type": "markdown",
   "metadata": {},
   "source": [
    "#### Processing of Datetime Features"
   ]
  },
  {
   "cell_type": "code",
   "execution_count": 7,
   "metadata": {
    "colab": {
     "base_uri": "https://localhost:8080/"
    },
    "id": "HwR-19mvg_YL",
    "outputId": "ee27059f-8086-4768-b987-d7c1fc2a299d"
   },
   "outputs": [
    {
     "name": "stdout",
     "output_type": "stream",
     "text": [
      "Latest Account Date:  count                  354369\n",
      "unique                  15470\n",
      "top       2016-03-05 14:25:00\n",
      "freq                       66\n",
      "first     2016-03-05 14:06:00\n",
      "last      2016-04-07 14:36:00\n",
      "Name: date_crawled, dtype: object\n",
      "\n",
      "count    354369.000000\n",
      "mean       2004.234448\n",
      "std          90.227958\n",
      "min        1000.000000\n",
      "25%        1999.000000\n",
      "50%        2003.000000\n",
      "75%        2008.000000\n",
      "max        9999.000000\n",
      "Name: registration_year, dtype: float64\n"
     ]
    }
   ],
   "source": [
    "date_features = ['date_crawled','date_created','last_seen']\n",
    "\n",
    "for col in date_features:\n",
    "    cars_df[col] = pd.to_datetime(cars_df[col], format=\"%d/%m/%Y %H:%M\")\n",
    "\n",
    "print(\"Latest Account Date: \", cars_df['date_crawled'].describe())\n",
    "print()\n",
    "print(cars_df['registration_year'].describe())"
   ]
  },
  {
   "cell_type": "code",
   "execution_count": 8,
   "metadata": {
    "id": "jV21-6u-La47"
   },
   "outputs": [],
   "source": [
    "mask = (cars_df['registration_year'] > 2016) | (cars_df['registration_year'] < 1954)\n",
    "cars_df.loc[mask, 'registration_year'] = np.nan"
   ]
  },
  {
   "cell_type": "code",
   "execution_count": 9,
   "metadata": {
    "id": "iPxkEQYCLE5Z"
   },
   "outputs": [],
   "source": [
    "cars_df['account_age'] = abs(cars_df['date_crawled'] - cars_df['date_created']) / pd.Timedelta(hours=1)\n",
    "#cars_df['est_car_age'] = cars_df['date_created'].dt.year.astype(int) - cars_df['registration_year']\n",
    "\n",
    "#cars_df = cars_df.drop(['date_crawled','date_created','last_seen'],axis = 1)"
   ]
  },
  {
   "cell_type": "markdown",
   "metadata": {},
   "source": [
    "#### Zipcode - Zip5 to Regional Zip Header"
   ]
  },
  {
   "cell_type": "code",
   "execution_count": 10,
   "metadata": {
    "colab": {
     "base_uri": "https://localhost:8080/",
     "height": 89
    },
    "id": "kuWkpElHg_YM",
    "outputId": "ac3eb228-db6f-4871-f9fa-45d6cfeafeff"
   },
   "outputs": [
    {
     "data": {
      "text/plain": [
       "'Number of Zip5 Postal Codes:'"
      ]
     },
     "metadata": {},
     "output_type": "display_data"
    },
    {
     "data": {
      "text/plain": [
       "8143"
      ]
     },
     "metadata": {},
     "output_type": "display_data"
    },
    {
     "data": {
      "text/plain": [
       "'Number of Zip1 Postal Codes:'"
      ]
     },
     "metadata": {},
     "output_type": "display_data"
    },
    {
     "data": {
      "text/plain": [
       "10"
      ]
     },
     "metadata": {},
     "output_type": "display_data"
    }
   ],
   "source": [
    "cars_df['postal_code'] = cars_df['postal_code'].astype(str)\n",
    "cars_df['zip_1'] = cars_df['postal_code'].str[:-4]\n",
    "display('Number of Zip5 Postal Codes:', cars_df['postal_code'].nunique())\n",
    "display('Number of Zip1 Postal Codes:', cars_df['zip_1'].nunique())"
   ]
  },
  {
   "cell_type": "code",
   "execution_count": 11,
   "metadata": {
    "id": "Z_oYfQopg_YM"
   },
   "outputs": [],
   "source": [
    "cars_df = cars_df.drop('postal_code', axis=1)"
   ]
  },
  {
   "cell_type": "code",
   "execution_count": 12,
   "metadata": {
    "colab": {
     "base_uri": "https://localhost:8080/"
    },
    "id": "mrOTovR_g_YN",
    "outputId": "cb2308e2-8fdb-4f5b-f2c4-b61385efbf2b"
   },
   "outputs": [
    {
     "name": "stdout",
     "output_type": "stream",
     "text": [
      "<class 'pandas.core.frame.DataFrame'>\n",
      "RangeIndex: 354369 entries, 0 to 354368\n",
      "Data columns (total 17 columns):\n",
      " #   Column              Non-Null Count   Dtype         \n",
      "---  ------              --------------   -----         \n",
      " 0   date_crawled        354369 non-null  datetime64[ns]\n",
      " 1   price               354369 non-null  int64         \n",
      " 2   vehicle_type        316879 non-null  object        \n",
      " 3   registration_year   339540 non-null  float64       \n",
      " 4   gearbox             334536 non-null  object        \n",
      " 5   power               354369 non-null  int64         \n",
      " 6   model               354369 non-null  object        \n",
      " 7   mileage             354369 non-null  int64         \n",
      " 8   registration_month  354369 non-null  int64         \n",
      " 9   fuel_type           321474 non-null  object        \n",
      " 10  brand               354369 non-null  object        \n",
      " 11  not_repaired        283215 non-null  object        \n",
      " 12  date_created        354369 non-null  datetime64[ns]\n",
      " 13  number_of_pictures  354369 non-null  int64         \n",
      " 14  last_seen           354369 non-null  datetime64[ns]\n",
      " 15  account_age         354369 non-null  float64       \n",
      " 16  zip_1               354369 non-null  object        \n",
      "dtypes: datetime64[ns](3), float64(2), int64(5), object(7)\n",
      "memory usage: 46.0+ MB\n"
     ]
    }
   ],
   "source": [
    "cars_df.info()"
   ]
  },
  {
   "cell_type": "markdown",
   "metadata": {},
   "source": [
    "#### Creation of Brandless DataFrame and Scalar DataFrames"
   ]
  },
  {
   "cell_type": "code",
   "execution_count": 13,
   "metadata": {
    "id": "7oUWwuT8g_YN"
   },
   "outputs": [],
   "source": [
    "cars_make_drop_df = cars_df.copy().drop('brand', axis = 1)"
   ]
  },
  {
   "cell_type": "code",
   "execution_count": 14,
   "metadata": {
    "id": "qQ8TcOYmvfwg"
   },
   "outputs": [],
   "source": [
    "linear_cars_df = cars_df.copy()\n",
    "\n",
    "model_counts = linear_cars_df['model'].value_counts()\n",
    "linear_cars_df['model_proportion'] = linear_cars_df['model'].map(model_counts) / len(linear_cars_df)\n",
    "linear_cars_df = linear_cars_df.drop('model', axis = 1)"
   ]
  },
  {
   "cell_type": "code",
   "execution_count": 15,
   "metadata": {
    "id": "3KQDSm-3zy2Q"
   },
   "outputs": [],
   "source": [
    "brand_counts = linear_cars_df['brand'].value_counts()\n",
    "linear_cars_df['brand_proportion'] = linear_cars_df['brand'].map(brand_counts) / len(linear_cars_df)\n",
    "linear_cars_df = linear_cars_df.drop('brand', axis = 1)"
   ]
  },
  {
   "cell_type": "code",
   "execution_count": 16,
   "metadata": {
    "colab": {
     "base_uri": "https://localhost:8080/",
     "height": 313
    },
    "id": "gQmFJ0mD1CYu",
    "outputId": "cf435b3a-2264-4a02-bad2-f7a08b9c14d1"
   },
   "outputs": [
    {
     "data": {
      "text/html": [
       "<div>\n",
       "<style scoped>\n",
       "    .dataframe tbody tr th:only-of-type {\n",
       "        vertical-align: middle;\n",
       "    }\n",
       "\n",
       "    .dataframe tbody tr th {\n",
       "        vertical-align: top;\n",
       "    }\n",
       "\n",
       "    .dataframe thead th {\n",
       "        text-align: right;\n",
       "    }\n",
       "</style>\n",
       "<table border=\"1\" class=\"dataframe\">\n",
       "  <thead>\n",
       "    <tr style=\"text-align: right;\">\n",
       "      <th></th>\n",
       "      <th>date_crawled</th>\n",
       "      <th>price</th>\n",
       "      <th>vehicle_type</th>\n",
       "      <th>registration_year</th>\n",
       "      <th>gearbox</th>\n",
       "      <th>power</th>\n",
       "      <th>mileage</th>\n",
       "      <th>registration_month</th>\n",
       "      <th>fuel_type</th>\n",
       "      <th>not_repaired</th>\n",
       "      <th>date_created</th>\n",
       "      <th>number_of_pictures</th>\n",
       "      <th>last_seen</th>\n",
       "      <th>account_age</th>\n",
       "      <th>zip_1</th>\n",
       "      <th>model_proportion</th>\n",
       "      <th>brand_proportion</th>\n",
       "    </tr>\n",
       "  </thead>\n",
       "  <tbody>\n",
       "    <tr>\n",
       "      <th>0</th>\n",
       "      <td>2016-03-24 11:52:00</td>\n",
       "      <td>480</td>\n",
       "      <td>NaN</td>\n",
       "      <td>1993.0</td>\n",
       "      <td>manual</td>\n",
       "      <td>0</td>\n",
       "      <td>150000</td>\n",
       "      <td>0</td>\n",
       "      <td>petrol</td>\n",
       "      <td>NaN</td>\n",
       "      <td>2016-03-24</td>\n",
       "      <td>0</td>\n",
       "      <td>2016-04-07 03:16:00</td>\n",
       "      <td>11.866667</td>\n",
       "      <td>7</td>\n",
       "      <td>0.082490</td>\n",
       "      <td>0.217324</td>\n",
       "    </tr>\n",
       "    <tr>\n",
       "      <th>1</th>\n",
       "      <td>2016-03-24 10:58:00</td>\n",
       "      <td>18300</td>\n",
       "      <td>coupe</td>\n",
       "      <td>2011.0</td>\n",
       "      <td>manual</td>\n",
       "      <td>190</td>\n",
       "      <td>125000</td>\n",
       "      <td>5</td>\n",
       "      <td>gasoline</td>\n",
       "      <td>yes</td>\n",
       "      <td>2016-03-24</td>\n",
       "      <td>0</td>\n",
       "      <td>2016-04-07 01:46:00</td>\n",
       "      <td>10.966667</td>\n",
       "      <td>6</td>\n",
       "      <td>0.055606</td>\n",
       "      <td>0.083122</td>\n",
       "    </tr>\n",
       "    <tr>\n",
       "      <th>2</th>\n",
       "      <td>2016-03-14 12:52:00</td>\n",
       "      <td>9800</td>\n",
       "      <td>suv</td>\n",
       "      <td>2004.0</td>\n",
       "      <td>auto</td>\n",
       "      <td>163</td>\n",
       "      <td>125000</td>\n",
       "      <td>8</td>\n",
       "      <td>gasoline</td>\n",
       "      <td>NaN</td>\n",
       "      <td>2016-03-14</td>\n",
       "      <td>0</td>\n",
       "      <td>2016-04-05 12:47:00</td>\n",
       "      <td>12.866667</td>\n",
       "      <td>9</td>\n",
       "      <td>0.001583</td>\n",
       "      <td>0.001910</td>\n",
       "    </tr>\n",
       "    <tr>\n",
       "      <th>3</th>\n",
       "      <td>2016-03-17 16:54:00</td>\n",
       "      <td>1500</td>\n",
       "      <td>small</td>\n",
       "      <td>2001.0</td>\n",
       "      <td>manual</td>\n",
       "      <td>75</td>\n",
       "      <td>150000</td>\n",
       "      <td>6</td>\n",
       "      <td>petrol</td>\n",
       "      <td>no</td>\n",
       "      <td>2016-03-17</td>\n",
       "      <td>0</td>\n",
       "      <td>2016-03-17 17:40:00</td>\n",
       "      <td>16.900000</td>\n",
       "      <td>9</td>\n",
       "      <td>0.082490</td>\n",
       "      <td>0.217324</td>\n",
       "    </tr>\n",
       "    <tr>\n",
       "      <th>4</th>\n",
       "      <td>2016-03-31 17:25:00</td>\n",
       "      <td>3600</td>\n",
       "      <td>small</td>\n",
       "      <td>2008.0</td>\n",
       "      <td>manual</td>\n",
       "      <td>69</td>\n",
       "      <td>90000</td>\n",
       "      <td>7</td>\n",
       "      <td>gasoline</td>\n",
       "      <td>no</td>\n",
       "      <td>2016-03-31</td>\n",
       "      <td>0</td>\n",
       "      <td>2016-04-06 10:17:00</td>\n",
       "      <td>17.416667</td>\n",
       "      <td>6</td>\n",
       "      <td>0.005870</td>\n",
       "      <td>0.015521</td>\n",
       "    </tr>\n",
       "  </tbody>\n",
       "</table>\n",
       "</div>"
      ],
      "text/plain": [
       "         date_crawled  price vehicle_type  registration_year gearbox  power  \\\n",
       "0 2016-03-24 11:52:00    480          NaN             1993.0  manual      0   \n",
       "1 2016-03-24 10:58:00  18300        coupe             2011.0  manual    190   \n",
       "2 2016-03-14 12:52:00   9800          suv             2004.0    auto    163   \n",
       "3 2016-03-17 16:54:00   1500        small             2001.0  manual     75   \n",
       "4 2016-03-31 17:25:00   3600        small             2008.0  manual     69   \n",
       "\n",
       "   mileage  registration_month fuel_type not_repaired date_created  \\\n",
       "0   150000                   0    petrol          NaN   2016-03-24   \n",
       "1   125000                   5  gasoline          yes   2016-03-24   \n",
       "2   125000                   8  gasoline          NaN   2016-03-14   \n",
       "3   150000                   6    petrol           no   2016-03-17   \n",
       "4    90000                   7  gasoline           no   2016-03-31   \n",
       "\n",
       "   number_of_pictures           last_seen  account_age zip_1  \\\n",
       "0                   0 2016-04-07 03:16:00    11.866667     7   \n",
       "1                   0 2016-04-07 01:46:00    10.966667     6   \n",
       "2                   0 2016-04-05 12:47:00    12.866667     9   \n",
       "3                   0 2016-03-17 17:40:00    16.900000     9   \n",
       "4                   0 2016-04-06 10:17:00    17.416667     6   \n",
       "\n",
       "   model_proportion  brand_proportion  \n",
       "0          0.082490          0.217324  \n",
       "1          0.055606          0.083122  \n",
       "2          0.001583          0.001910  \n",
       "3          0.082490          0.217324  \n",
       "4          0.005870          0.015521  "
      ]
     },
     "execution_count": 16,
     "metadata": {},
     "output_type": "execute_result"
    }
   ],
   "source": [
    "linear_cars_df.head()"
   ]
  },
  {
   "cell_type": "code",
   "execution_count": 17,
   "metadata": {
    "id": "rpRFQQLtg_YN",
    "scrolled": true
   },
   "outputs": [],
   "source": [
    "cat_features = linear_cars_df.select_dtypes(include='object').columns.tolist()\n",
    "\n",
    "linear_cars_df = pd.get_dummies(linear_cars_df, columns=cat_features, dummy_na=True, drop_first=False)"
   ]
  },
  {
   "cell_type": "markdown",
   "metadata": {
    "id": "LQtBmjS7K4_P"
   },
   "source": [
    "#### Impute Missing Registration Year"
   ]
  },
  {
   "cell_type": "code",
   "execution_count": 18,
   "metadata": {
    "id": "wgxYMnPyg_YO"
   },
   "outputs": [],
   "source": [
    "features = ['registration_year','power','mileage','brand_proportion', 'gearbox_auto', 'not_repaired_yes']\n",
    "sampled_df = linear_cars_df[features].sample(25000, random_state=42)\n",
    "\n",
    "nan_rows = linear_cars_df[(linear_cars_df['registration_year'].isna())]\n",
    "\n",
    "non_nan_rows = linear_cars_df[linear_cars_df['registration_year'].notna()]\n",
    "sampled_non_nan = non_nan_rows.sample(n=min(25000, len(non_nan_rows)), random_state=42)\n",
    "\n",
    "impute_df = pd.concat([nan_rows, sampled_non_nan], axis=0)\n",
    "\n",
    "scaler = StandardScaler()\n",
    "scaled = scaler.fit_transform(impute_df[features])\n",
    "\n",
    "imputer = KNNImputer(n_neighbors=5)\n",
    "scaled_imputed = imputer.fit_transform(scaled)\n",
    "\n",
    "imputed = scaler.inverse_transform(scaled_imputed)\n",
    "\n",
    "linear_cars_df.loc[nan_rows.index, 'registration_year'] = imputed[:len(nan_rows), features.index('registration_year')]"
   ]
  },
  {
   "cell_type": "code",
   "execution_count": 19,
   "metadata": {
    "id": "AW3QUWWES-Fj"
   },
   "outputs": [],
   "source": [
    "linear_cars_df['est_car_age'] = linear_cars_df['date_created'].dt.year.astype(int) - linear_cars_df['registration_year']"
   ]
  },
  {
   "cell_type": "code",
   "execution_count": 20,
   "metadata": {
    "id": "U1KTlkjJOS4T"
   },
   "outputs": [],
   "source": [
    "linear_cars_df = linear_cars_df.drop(['date_crawled','date_created','last_seen'],axis = 1)"
   ]
  },
  {
   "cell_type": "markdown",
   "metadata": {},
   "source": [
    "#### Final Cleaning of DataFrames\n",
    "Dropped extra columns and features created during feature engineering"
   ]
  },
  {
   "cell_type": "code",
   "execution_count": 21,
   "metadata": {
    "id": "WBiyTP9Bg_YO",
    "scrolled": true
   },
   "outputs": [],
   "source": [
    "cat_features2 = cars_make_drop_df.select_dtypes(include='object').columns.tolist()\n",
    "linear_cars_make_drop_df = linear_cars_df.drop('brand_proportion', axis=1)\n",
    "\n",
    "#linear_cars_make_drop_df = linear_cars_make_drop_df.drop(['date_crawled','date_created','last_seen'],axis = 1)"
   ]
  },
  {
   "cell_type": "code",
   "execution_count": 22,
   "metadata": {
    "id": "7xbBion7XyHv"
   },
   "outputs": [],
   "source": [
    "cars_df = cars_df.drop(['date_crawled','date_created','last_seen'],axis = 1)"
   ]
  },
  {
   "cell_type": "code",
   "execution_count": 23,
   "metadata": {
    "id": "MV-Z4Od0YBdJ"
   },
   "outputs": [],
   "source": [
    "cars_make_drop_df = cars_make_drop_df.drop(['date_crawled','date_created','last_seen'],axis = 1)"
   ]
  },
  {
   "cell_type": "markdown",
   "metadata": {
    "id": "V7pcvEwFg_YO"
   },
   "source": [
    "### Train Test Split\n",
    "\n",
    "For brevity, dataframes are encoded accordingly\n",
    "* X1, y1: `cars_df`, original dataframe\n",
    "* X2, y2: `cars_make_drop_df`, brand of car dropped\n",
    "* X3, y3: `linear_cars_df`, original dataframe with catagorical data one-hot-encoded\n",
    "* X4, y4: `linear_cars_make_drop_df`, X2 and y2 with OHE"
   ]
  },
  {
   "cell_type": "code",
   "execution_count": 24,
   "metadata": {
    "id": "vIf9MeBag_YO"
   },
   "outputs": [],
   "source": [
    "datasets = {\n",
    "    'original': cars_df,\n",
    "    'no_brand': cars_make_drop_df,\n",
    "    'linear': linear_cars_df,\n",
    "    'linear_no_brand': linear_cars_make_drop_df\n",
    "}\n",
    "\n",
    "splits = {}\n",
    "for name, df in datasets.items():\n",
    "    X_train, X_test, y_train, y_test = train_test_split(\n",
    "        df.drop('price', axis=1), df['price'],\n",
    "        test_size=0.2, random_state=42\n",
    "    )\n",
    "    splits[name] = {\n",
    "        'X_train': X_train, 'X_test': X_test,\n",
    "        'y_train': y_train, 'y_test': y_test\n",
    "    }"
   ]
  },
  {
   "cell_type": "markdown",
   "metadata": {
    "id": "XUEufG42g_YP"
   },
   "source": [
    "## Model training"
   ]
  },
  {
   "cell_type": "code",
   "execution_count": 25,
   "metadata": {
    "id": "hv2kFg1E817H"
   },
   "outputs": [],
   "source": [
    "rmse_scorer = make_scorer(\n",
    "    mean_squared_error,\n",
    "    greater_is_better=False,\n",
    "    squared=False\n",
    ")"
   ]
  },
  {
   "cell_type": "markdown",
   "metadata": {
    "id": "3CK-WNVvkGi8"
   },
   "source": [
    "### LightGBM"
   ]
  },
  {
   "cell_type": "code",
   "execution_count": 26,
   "metadata": {
    "id": "mqiGch1Tg_YP",
    "scrolled": true
   },
   "outputs": [],
   "source": [
    "X1_train, X1_test, y1_train, y1_test = splits['original'].values()\n",
    "\n",
    "lgb_cat_cols = X1_train.select_dtypes(include='object').columns.tolist()\n",
    "\n",
    "for col in lgb_cat_cols:\n",
    "    X1_train[col] = X1_train[col].astype('category')\n",
    "    X1_test[col] = X1_test[col].astype('category')"
   ]
  },
  {
   "cell_type": "code",
   "execution_count": 27,
   "metadata": {
    "id": "_lQ1uGq-g_YP",
    "scrolled": true
   },
   "outputs": [],
   "source": [
    "def lgb_tuning(X_train, y_train, X_test, y_test, n_iter=25):\n",
    "    \"\"\"\n",
    "    Hyperparameter tuning for LightGBM\n",
    "    \"\"\"\n",
    "\n",
    "    lgb_model = lgb.LGBMRegressor(\n",
    "        objective='regression',\n",
    "        metric='rmse',\n",
    "        random_state=42,\n",
    "        verbose=-1\n",
    "    )\n",
    "\n",
    "    param_grid = {\n",
    "        'learning_rate': [0.01, 0.05, 0.1],\n",
    "        'n_estimators': [100, 200],\n",
    "        'num_leaves': [16, 32, 64],\n",
    "        'max_depth': [3, 5, 7],\n",
    "        'reg_lambda': [0, 0.1, 0.5]\n",
    "    }\n",
    "\n",
    "    random_search = RandomizedSearchCV(\n",
    "        lgb_model,\n",
    "        param_grid,\n",
    "        n_iter=n_iter,\n",
    "        cv=3,\n",
    "        scoring='neg_mean_squared_error',\n",
    "        random_state=42,\n",
    "        n_jobs=-1\n",
    "    )\n",
    "\n",
    "    random_search.fit(X_train, y_train)\n",
    "\n",
    "    best_model = random_search.best_estimator_\n",
    "    y_pred = best_model.predict(X_test)\n",
    "    rmse = np.sqrt(mean_squared_error(y_test, y_pred))\n",
    "\n",
    "    return {\n",
    "        'best_model': best_model,\n",
    "        'best_params': random_search.best_params_,\n",
    "        'rmse': rmse\n",
    "    }"
   ]
  },
  {
   "cell_type": "markdown",
   "metadata": {},
   "source": [
    "#### With Regard to Car Make (`Brand`)"
   ]
  },
  {
   "cell_type": "code",
   "execution_count": 28,
   "metadata": {
    "colab": {
     "base_uri": "https://localhost:8080/"
    },
    "id": "eURZKbSEg_YQ",
    "outputId": "27b8a6af-12cc-4417-bac0-757bae6f04c5"
   },
   "outputs": [
    {
     "name": "stdout",
     "output_type": "stream",
     "text": [
      "CPU times: user 11.1 s, sys: 264 ms, total: 11.4 s\n",
      "Wall time: 1min 42s\n"
     ]
    }
   ],
   "source": [
    "%time original_lgb_dict = lgb_tuning(X1_train, y1_train, X1_test, y1_test)\n",
    "\n",
    "### last runtime 1 min 42 sec"
   ]
  },
  {
   "cell_type": "code",
   "execution_count": 29,
   "metadata": {
    "colab": {
     "base_uri": "https://localhost:8080/"
    },
    "id": "LnnYxL9ng_YQ",
    "outputId": "ca7322b7-12f8-44a1-a07b-e05b161ce284"
   },
   "outputs": [
    {
     "name": "stdout",
     "output_type": "stream",
     "text": [
      "{'best_model': LGBMRegressor(max_depth=7, metric='rmse', n_estimators=200, num_leaves=32,\n",
      "              objective='regression', random_state=42, reg_lambda=0.5,\n",
      "              verbose=-1), 'best_params': {'reg_lambda': 0.5, 'num_leaves': 32, 'n_estimators': 200, 'max_depth': 7, 'learning_rate': 0.1}, 'rmse': 1759.2599574515411}\n"
     ]
    }
   ],
   "source": [
    "print(original_lgb_dict)"
   ]
  },
  {
   "cell_type": "markdown",
   "metadata": {},
   "source": [
    "#### Without Regard to Car Make (`Brand`)"
   ]
  },
  {
   "cell_type": "code",
   "execution_count": 30,
   "metadata": {
    "colab": {
     "base_uri": "https://localhost:8080/"
    },
    "id": "wYV1NKlKg_YQ",
    "outputId": "33a06166-25af-474c-ad5f-2de973cba099"
   },
   "outputs": [
    {
     "name": "stdout",
     "output_type": "stream",
     "text": [
      "CPU times: user 10.4 s, sys: 214 ms, total: 10.6 s\n",
      "Wall time: 1min 37s\n"
     ]
    }
   ],
   "source": [
    "X2_train, X2_test, y2_train, y2_test = splits['no_brand'].values()\n",
    "\n",
    "lgb_cat_cols = X2_train.select_dtypes(include='object').columns.tolist()\n",
    "\n",
    "for col in lgb_cat_cols:\n",
    "    X2_train[col] = X2_train[col].astype('category')\n",
    "    X2_test[col] = X2_test[col].astype('category')\n",
    "\n",
    "%time no_brand_lgb_dict = lgb_tuning(X2_train, y2_train, X2_test, y2_test)\n",
    "\n",
    "### last runtime 1 min 37 sec"
   ]
  },
  {
   "cell_type": "code",
   "execution_count": 31,
   "metadata": {
    "colab": {
     "base_uri": "https://localhost:8080/"
    },
    "id": "NvwjeCaDg_YQ",
    "outputId": "fa7c79f4-fc42-4c8d-ddeb-63cba0cc5098",
    "scrolled": true
   },
   "outputs": [
    {
     "name": "stdout",
     "output_type": "stream",
     "text": [
      "{'best_model': LGBMRegressor(max_depth=7, metric='rmse', n_estimators=200, num_leaves=32,\n",
      "              objective='regression', random_state=42, reg_lambda=0.5,\n",
      "              verbose=-1), 'best_params': {'reg_lambda': 0.5, 'num_leaves': 32, 'n_estimators': 200, 'max_depth': 7, 'learning_rate': 0.1}, 'rmse': 1774.2271678496109}\n"
     ]
    }
   ],
   "source": [
    "print (no_brand_lgb_dict)"
   ]
  },
  {
   "cell_type": "markdown",
   "metadata": {},
   "source": [
    "**Note:** Elimintation of car `brand` was detrimental to RMSE without significant improvements in training time. Subsequent model testing was performed with inclusion of `brand`. "
   ]
  },
  {
   "cell_type": "markdown",
   "metadata": {
    "id": "E2UhvfVPu9SG"
   },
   "source": [
    "### RandomForestRegressor\n",
    "\n"
   ]
  },
  {
   "cell_type": "code",
   "execution_count": 33,
   "metadata": {
    "colab": {
     "base_uri": "https://localhost:8080/"
    },
    "id": "XLfEXImlvSOS",
    "outputId": "80d8e6e0-c7bf-4383-8427-d4a12491c9a1",
    "scrolled": true
   },
   "outputs": [
    {
     "name": "stdout",
     "output_type": "stream",
     "text": [
      "Best Params for Random Forest: {'n_estimators': 100, 'min_samples_split': 10, 'min_samples_leaf': 2, 'max_depth': None}\n",
      "Best Grid Search RSME: 1800.6014092839348\n",
      "Test RSME: 1746.9156957799746\n",
      "Elapsed Time: 496.6611785888672\n"
     ]
    }
   ],
   "source": [
    "# last run time 496.6611785888672 sec (~8 minutes)\n",
    "\n",
    "X3_train, X3_test, y3_train, y3_test = splits['linear'].values()\n",
    "\n",
    "param_distributions = {\n",
    "    \"n_estimators\": [50, 100],\n",
    "    \"max_depth\": [None, 5, 10, 20],\n",
    "    \"min_samples_split\": [2, 5, 10, 15, 20],\n",
    "    \"min_samples_leaf\": [1, 2, 4, 6, 10],\n",
    "}\n",
    "\n",
    "rf_regressor = RandomForestRegressor(random_state=42)\n",
    "\n",
    "rf_random_search = RandomizedSearchCV(\n",
    "    rf_regressor,\n",
    "    param_distributions,\n",
    "    n_iter=10,\n",
    "    cv=2,\n",
    "    scoring='neg_mean_squared_error',\n",
    "    random_state=42,\n",
    "    n_jobs=-1\n",
    ")\n",
    "\n",
    "rf_start_time = time.time()\n",
    "\n",
    "rf_random_search.fit(X3_train, y3_train)\n",
    "\n",
    "best_rf_model = rf_random_search.best_estimator_\n",
    "y3_pred = best_rf_model.predict(X3_test)\n",
    "\n",
    "rmse_test = np.sqrt(mean_squared_error(y3_test, y3_pred))\n",
    "rmse_cv   = (-rf_random_search.best_score_)**0.5\n",
    "\n",
    "elapsed_time = time.time() - rf_start_time\n",
    "\n",
    "print(f\"Best Params for Random Forest: {rf_random_search.best_params_}\")\n",
    "print(f\"Best Grid Search RSME: {rmse_cv}\")\n",
    "print(f\"Test RSME: {rmse_test}\")\n",
    "print(f\"Elapsed Time: {elapsed_time}\")"
   ]
  },
  {
   "cell_type": "code",
   "execution_count": 35,
   "metadata": {},
   "outputs": [
    {
     "name": "stdout",
     "output_type": "stream",
     "text": [
      "{'bootstrap': True, 'ccp_alpha': 0.0, 'criterion': 'mse', 'max_depth': None, 'max_features': 'auto', 'max_leaf_nodes': None, 'max_samples': None, 'min_impurity_decrease': 0.0, 'min_impurity_split': None, 'min_samples_leaf': 2, 'min_samples_split': 10, 'min_weight_fraction_leaf': 0.0, 'n_estimators': 100, 'n_jobs': None, 'oob_score': False, 'random_state': 42, 'verbose': 0, 'warm_start': False}\n"
     ]
    }
   ],
   "source": [
    "print(best_rf_model.get_params())"
   ]
  },
  {
   "cell_type": "markdown",
   "metadata": {
    "id": "VGuQzFDMkMg2"
   },
   "source": [
    "### Linear Regression Modeling"
   ]
  },
  {
   "cell_type": "code",
   "execution_count": 34,
   "metadata": {
    "colab": {
     "base_uri": "https://localhost:8080/"
    },
    "id": "TyDUUpSxkvFo",
    "outputId": "c0597f06-a898-4b6a-ffb7-38782ab97992"
   },
   "outputs": [
    {
     "name": "stdout",
     "output_type": "stream",
     "text": [
      "CPU times: user 630 ms, sys: 417 ms, total: 1.05 s\n",
      "Wall time: 525 ms\n",
      "CPU times: user 36.1 ms, sys: 37.5 ms, total: 73.6 ms\n",
      "Wall time: 66.6 ms\n",
      "Linear Regression RSME: 3277.865751043551\n"
     ]
    }
   ],
   "source": [
    "X3_train, X3_test, y3_train, y3_test = splits['linear'].values()\n",
    "\n",
    "lin_model = LinearRegression(n_jobs=-1)\n",
    "\n",
    "%time lin_model.fit(X3_train, y3_train)\n",
    "%time y3_preds = lin_model.predict(X3_test)\n",
    "\n",
    "lin_rsme = mean_squared_error(y3_test, y3_preds)**.5\n",
    "print ('Linear Regression RSME:', lin_rsme)"
   ]
  },
  {
   "cell_type": "markdown",
   "metadata": {
    "id": "n8W_RSgdrp5T"
   },
   "source": [
    "### Additional Models\n",
    "\n",
    "#### XGBoost\n",
    "\n",
    "Inital attempts of hyperparamter tuning using the same parameter distribution grid as LGBoostRegressor resulted in tuning time >10 minutes and was terminated. \n",
    "\n",
    "An alternate parameter distribution grid is enabled below. "
   ]
  },
  {
   "cell_type": "code",
   "execution_count": 41,
   "metadata": {
    "colab": {
     "base_uri": "https://localhost:8080/"
    },
    "id": "B3csJ41Xtmll",
    "outputId": "2fd0a76d-fae1-49e3-8786-4717170cf9ab"
   },
   "outputs": [
    {
     "name": "stdout",
     "output_type": "stream",
     "text": [
      "Best Params for XG Boost: {'n_estimators': 50, 'max_depth': 5, 'learning_rate': 0.5, 'colsample_bytree': 0.66}\n",
      "Best Grid Search RSME: 1865.1617203176668\n",
      "Test RSME: 1865.1617203176668\n",
      "Elapsed Time: 252.88221955299377\n"
     ]
    }
   ],
   "source": [
    "import xgboost as xgb\n",
    "\n",
    "param_distributions = {\n",
    "    'n_estimators': [25, 50],\n",
    "    'max_depth': [3, 5],\n",
    "    'learning_rate': [0.25, 0.5],\n",
    "    'colsample_bytree': [0.66]}\n",
    "\n",
    "xg_random_search = RandomizedSearchCV(\n",
    "    xgb.XGBRegressor(objective='reg:squarederror', random_state=42),\n",
    "    param_distributions,\n",
    "    n_iter=5,\n",
    "    cv=2,\n",
    "    scoring='neg_mean_squared_error',\n",
    "    random_state=42,\n",
    "    n_jobs=-1\n",
    ")\n",
    "\n",
    "xg_start_time = time.time()\n",
    "\n",
    "xg_random_search.fit(X3_train, y3_train)\n",
    "\n",
    "# Get best model and evaluate\n",
    "best_xg_model = xg_random_search.best_estimator_\n",
    "xg_y3_pred = best_xg_model.predict(X3_test)\n",
    "\n",
    "elapsed_time = time.time() - xg_start_time\n",
    "\n",
    "xg_rmse_test = np.sqrt(mean_squared_error(y3_test, xg_y3_pred))\n",
    "xg_rmse_cv   = (-xg_random_search.best_score_)**0.5\n",
    "\n",
    "print(f\"Best Params for XG Boost: {xg_random_search.best_params_}\")\n",
    "print(f\"Best Grid Search RSME: {xg_rmse_test}\")\n",
    "print(f\"Test RSME: {xg_rmse_test}\")\n",
    "print(f\"Elapsed Time: {elapsed_time}\")"
   ]
  },
  {
   "cell_type": "code",
   "execution_count": 43,
   "metadata": {},
   "outputs": [
    {
     "name": "stdout",
     "output_type": "stream",
     "text": [
      "{'objective': 'reg:squarederror', 'base_score': 0.5, 'booster': 'gbtree', 'colsample_bylevel': 1, 'colsample_bynode': 1, 'colsample_bytree': 0.66, 'enable_categorical': False, 'gamma': 0, 'gpu_id': -1, 'importance_type': None, 'interaction_constraints': '', 'learning_rate': 0.5, 'max_delta_step': 0, 'max_depth': 5, 'min_child_weight': 1, 'missing': nan, 'monotone_constraints': '()', 'n_estimators': 50, 'n_jobs': 8, 'num_parallel_tree': 1, 'predictor': 'auto', 'random_state': 42, 'reg_alpha': 0, 'reg_lambda': 1, 'scale_pos_weight': 1, 'subsample': 1, 'tree_method': 'exact', 'validate_parameters': 1, 'verbosity': None}\n"
     ]
    }
   ],
   "source": [
    "print(best_xg_model.get_params())"
   ]
  },
  {
   "cell_type": "markdown",
   "metadata": {
    "id": "ZM4PNPZag_YQ"
   },
   "source": [
    "## Model analysis\n",
    "Standard Deviation of Historic Prices: $4514.16\n",
    "\n",
    "### LightGB Regressor:\n",
    "LGBM is an effective estimator for final car price. Retaining car make (`brand`) as a proportion of all cars resulted in a higher RMSE with minimal increase in hyperparameter tuning (RandomeCV search) and training time. Final testing resulted in a RSME of 1759.30 and a total run time of 1 min 1 sec.\n",
    "\n",
    "Anticipated user wait time on one single car value prediction is 13.3 mili-seconds. \n",
    "\n",
    "One drawback with this model (and other gradient boost models) is limited interpretability of the final model. Namely, key drivers of price cannot be easily identified from the multiple training steps. \n",
    "\n",
    "```\n",
    "{'best_model': LGBMRegressor(max_depth=7, metric='rmse', n_estimators=200, num_leaves=32,\n",
    "              objective='regression', random_state=42, reg_lambda=0.5,\n",
    "              verbose=-1), 'best_params': {'reg_lambda': 0.5, 'num_leaves': 32, 'n_estimators': 200, 'max_depth': 7, 'learning_rate': 0.1}, 'rmse': 1759.2599574515411}\n",
    "```\n",
    "Relative RSME (RSME/STD): 0.390"
   ]
  },
  {
   "cell_type": "code",
   "execution_count": 44,
   "metadata": {},
   "outputs": [
    {
     "name": "stdout",
     "output_type": "stream",
     "text": [
      "CPU times: user 15.2 ms, sys: 0 ns, total: 15.2 ms\n",
      "Wall time: 12.3 ms\n"
     ]
    },
    {
     "data": {
      "text/plain": [
       "array([16840.26208065])"
      ]
     },
     "execution_count": 44,
     "metadata": {},
     "output_type": "execute_result"
    }
   ],
   "source": [
    "%time single_pred = original_lgb_dict['best_model'].predict(X1_test.head(1))\n",
    "single_pred"
   ]
  },
  {
   "cell_type": "markdown",
   "metadata": {},
   "source": [
    "### Random Forest\n",
    "Random Forest resulted in a slightly better RSME 1746.92. However this method was significantly more resource intesive at 8 minutes 9 seconds during hypertuning, even when limting n-inters to 10. \n",
    "\n",
    "Anticipated wait time on a single use prediction is 5.26 ms. \n",
    "\n",
    "An advantage of the RandomForest is its ability to clearly show its decision making process. Key attributes price determination may be identified. Final hyper parameters and the first 3 levels of the best decision tree are printed below. \n",
    "\n",
    "```\n",
    "{'bootstrap': True, 'ccp_alpha': 0.0, 'criterion': 'mse', 'max_depth': None, 'max_features': 'auto', 'max_leaf_nodes': None, 'max_samples': None, 'min_impurity_decrease': 0.0, 'min_impurity_split': None, 'min_samples_leaf': 2, 'min_samples_split': 10, 'min_weight_fraction_leaf': 0.0, 'n_estimators': 100, 'n_jobs': None, 'oob_score': False, 'random_state': 42, 'verbose': 0, 'warm_start': False}\n",
    "```\n",
    "\n",
    "Relative RSME: 0.387"
   ]
  },
  {
   "cell_type": "code",
   "execution_count": 45,
   "metadata": {},
   "outputs": [
    {
     "name": "stdout",
     "output_type": "stream",
     "text": [
      "CPU times: user 5.3 ms, sys: 3.12 ms, total: 8.42 ms\n",
      "Wall time: 6.3 ms\n"
     ]
    },
    {
     "data": {
      "text/plain": [
       "array([17154.69692549])"
      ]
     },
     "execution_count": 45,
     "metadata": {},
     "output_type": "execute_result"
    }
   ],
   "source": [
    "%time rf_single_pred = best_rf_model.predict(X3_test.head(1))\n",
    "rf_single_pred"
   ]
  },
  {
   "cell_type": "code",
   "execution_count": 36,
   "metadata": {
    "id": "DRsfi9Urg_YR"
   },
   "outputs": [
    {
     "data": {
      "image/png": "[encoded data removed]",
      "text/plain": [
       "<Figure size 2000x1000 with 1 Axes>"
      ]
     },
     "metadata": {},
     "output_type": "display_data"
    }
   ],
   "source": [
    "from sklearn.tree import plot_tree\n",
    "import matplotlib.pyplot as plt\n",
    "\n",
    "tree = best_rf_model.estimators_[0]\n",
    "\n",
    "plt.figure(figsize=(20, 10))\n",
    "plot_tree(\n",
    "    tree,\n",
    "    feature_names=X3_train.columns,  # use the correct dataframe\n",
    "    filled=True,\n",
    "    rounded=True,\n",
    "    fontsize=8,\n",
    "    max_depth=3\n",
    ")\n",
    "plt.show()\n"
   ]
  },
  {
   "cell_type": "markdown",
   "metadata": {},
   "source": [
    "### XGBoost\n",
    "\n",
    "As expected, with larger datasets, XGBoost is not an efficient model. During hyperparameter tuning, multiple adjustments needed to be made for practical training time. \n",
    "\n",
    "After limiting hyperparameters tested, final tuning time was 4 minutes 13 seconds, with and RSME of 1865.16.\n",
    "\n",
    "```\n",
    "{'objective': 'reg:squarederror', 'base_score': 0.5, 'booster': 'gbtree', 'colsample_bylevel': 1, 'colsample_bynode': 1, 'colsample_bytree': 0.66, 'enable_categorical': False, 'gamma': 0, 'gpu_id': -1, 'importance_type': None, 'interaction_constraints': '', 'learning_rate': 0.5, 'max_delta_step': 0, 'max_depth': 5, 'min_child_weight': 1, 'missing': nan, 'monotone_constraints': '()', 'n_estimators': 50, 'n_jobs': 8, 'num_parallel_tree': 1, 'predictor': 'auto', 'random_state': 42, 'reg_alpha': 0, 'reg_lambda': 1, 'scale_pos_weight': 1, 'subsample': 1, 'tree_method': 'exact', 'validate_parameters': 1, 'verbosity': None}\n",
    "```\n",
    "\n",
    "Relative RSME: 0.413"
   ]
  },
  {
   "cell_type": "markdown",
   "metadata": {},
   "source": [
    "### Linear Regression (Sanity Check)\n",
    "\n",
    "As sanity check, LinearRegression was run on the scalarized features. As expected, our data is poorly characterized by a single linear relationships with a RMSE of 3277.86. \n",
    "\n",
    "Relative RSME: 0.726"
   ]
  },
  {
   "cell_type": "markdown",
   "metadata": {},
   "source": [
    "# Conclusion\n",
    "\n",
    "For the purpose of the app, LightGBM regressor offers a good return for resoruce. The model will offer Rusty Bargain quick moment-to-moment, live price estimations without significant wait time.\n",
    "\n",
    "However, if Rusty Bargain is willing to accept periodical updates to pricing models (i.e. quarterly), using RandomForestRegressor will provide robust price prediction with the added benefit of model transparency. This would allow markets to identify key-determinators of price. "
   ]
  }
 ],
 "metadata": {
  "colab": {
   "provenance": []
  },
  "kernelspec": {
   "display_name": "Python 3 (ipykernel)",
   "language": "python",
   "name": "python3"
  },
  "language_info": {
   "codemirror_mode": {
    "name": "ipython",
    "version": 3
   },
   "file_extension": ".py",
   "mimetype": "text/x-python",
   "name": "python",
   "nbconvert_exporter": "python",
   "pygments_lexer": "ipython3",
   "version": "3.9.23"
  }
 },
 "nbformat": 4,
 "nbformat_minor": 4
}
