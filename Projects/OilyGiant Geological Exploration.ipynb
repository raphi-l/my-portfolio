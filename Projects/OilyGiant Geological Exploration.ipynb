{
 "cells": [
  {
   "cell_type": "markdown",
   "metadata": {},
   "source": [
    "# OilyGiant Geological Exploration\n",
    "\n",
    "Prepared by Raphael Lu"
   ]
  },
  {
   "cell_type": "code",
   "execution_count": 31,
   "metadata": {},
   "outputs": [],
   "source": [
    "import pandas as pd\n",
    "import numpy as np\n",
    "import matplotlib.pyplot as plt\n",
    "import seaborn as sns\n",
    "from scipy import stats as st\n",
    "from sklearn.model_selection import train_test_split\n",
    "from sklearn.linear_model import LinearRegression\n",
    "from sklearn.metrics import mean_squared_error as MSE\n",
    "from sklearn.utils import resample"
   ]
  },
  {
   "cell_type": "markdown",
   "metadata": {},
   "source": [
    "# Introduction\n",
    "\n",
    "The purpose of this project is to identify a potential location (from geo0, geo1, or geo2) for new oil wells . Specifically, we will train models to predict the volume of reserves (in thousands of barrels) in potential wells using known geological features of existing wells in each region. A unique model will be created for each region we are exploring. \n",
    "\n",
    "Because we are dealing with a continuous outcome (thousands of barrels), we will use linear regression modeling. In training our models, we will split available data using a 75:25 (train : validate) ratio. To simulate well-selection variability and to map the distibution of potential profit in each region, we will take 1000 bootstrap samples of 500 existing wells in each region. Using our models, we will predict the top 200 wells (by reserves volume) from each sample and calcuate profits using their actual known reserves. Final profit-loss risk will be determined from the modeled profit distributions. \n",
    "\n",
    "A final region for well development will be determined based on based on potential profit (least risk for profit loss). \n",
    "\n",
    "### Conditions\n",
    "* Budget: $100 Million USD\n",
    "* Wells Planned: 200\n",
    "* Risk Tolerance for Progit Loss: 2.5%"
   ]
  },
  {
   "cell_type": "markdown",
   "metadata": {},
   "source": [
    "\n",
    "$$\n",
    "\\text{Break Even Units} = \\frac{\\text{Budget for 200 Wells}}{\\text{Revenue per Unit}} \n",
    "= \\frac{\\text{\\$}100{,}000{,}000}{\\text{\\$}4{,}500} \\approx 22{,}222 \\text{ units}\n",
    "$$   \n",
    "\n",
    "\n",
    "$$\n",
    "\\text{Break Even Units per Well} = \\frac{\\text{Total Units}}{\\text{Total Wells}} \n",
    "= \\frac{22{,}222{.}22}{200} \\approx 111.11 \\text{ units}\n",
    "$$\n",
    "\n"
   ]
  },
  {
   "cell_type": "markdown",
   "metadata": {},
   "source": [
    "For this venture, we have budgeted $100 Million USD which we will allocated to the production of 200 wells. To breakeven, will be need a total yeild of at least 22,222 thousand-units or around 111 thousand units per well. "
   ]
  },
  {
   "cell_type": "code",
   "execution_count": 32,
   "metadata": {},
   "outputs": [],
   "source": [
    "budget_total = 100000000\n",
    "wells_count = 200\n",
    "rev_per_unit = 4500\n",
    "points_studied = 500\n",
    "boot_straps = 1000\n",
    "\n",
    "be_units_per_well = (budget_total/rev_per_unit) / wells_count"
   ]
  },
  {
   "cell_type": "markdown",
   "metadata": {},
   "source": [
    "# Data Exploration\n",
    "\n",
    "There are 10,000 entries for each of our 3 geographic regions each with feilds well `'id'`, 3 geographic features (`'f0','f1','f2'`), and reserve volume in thousands (`'product'`). For model training, well id's were dropped from the datasets. 'product' was assigned as the target for our models.   \n",
    "\n",
    "Features are all stored as numerical (float64) values. Not missing values were noted. \n",
    "\n",
    "\n",
    "For each region, data were split using a 75:25 (train:validate) ratio. \n"
   ]
  },
  {
   "cell_type": "code",
   "execution_count": 33,
   "metadata": {},
   "outputs": [],
   "source": [
    "geo0_df = pd.read_csv('/datasets/geo_data_0.csv')\n",
    "geo1_df = pd.read_csv('/datasets/geo_data_1.csv')\n",
    "geo2_df = pd.read_csv('/datasets/geo_data_2.csv')\n",
    "\n",
    "\n",
    "\n",
    "geo_data = {\n",
    "    'geo0': geo0_df,\n",
    "    'geo1': geo1_df,\n",
    "    'geo2': geo2_df\n",
    "}"
   ]
  },
  {
   "cell_type": "code",
   "execution_count": 34,
   "metadata": {},
   "outputs": [
    {
     "name": "stdout",
     "output_type": "stream",
     "text": [
      "**********************************************************\n"
     ]
    },
    {
     "data": {
      "text/html": [
       "<style  type=\"text/css\" >\n",
       "</style><table id=\"T_c225e_\" style=\"font-size:10px; width:50%;\"><thead>    <tr>        <th class=\"blank level0\" ></th>        <th class=\"col_heading level0 col0\" >id</th>        <th class=\"col_heading level0 col1\" >f0</th>        <th class=\"col_heading level0 col2\" >f1</th>        <th class=\"col_heading level0 col3\" >f2</th>        <th class=\"col_heading level0 col4\" >product</th>    </tr></thead><tbody>\n",
       "                <tr>\n",
       "                        <th id=\"T_c225e_level0_row0\" class=\"row_heading level0 row0\" >0</th>\n",
       "                        <td id=\"T_c225e_row0_col0\" class=\"data row0 col0\" >txEyH</td>\n",
       "                        <td id=\"T_c225e_row0_col1\" class=\"data row0 col1\" >0.705745</td>\n",
       "                        <td id=\"T_c225e_row0_col2\" class=\"data row0 col2\" >-0.497823</td>\n",
       "                        <td id=\"T_c225e_row0_col3\" class=\"data row0 col3\" >1.221170</td>\n",
       "                        <td id=\"T_c225e_row0_col4\" class=\"data row0 col4\" >105.280062</td>\n",
       "            </tr>\n",
       "            <tr>\n",
       "                        <th id=\"T_c225e_level0_row1\" class=\"row_heading level0 row1\" >1</th>\n",
       "                        <td id=\"T_c225e_row1_col0\" class=\"data row1 col0\" >2acmU</td>\n",
       "                        <td id=\"T_c225e_row1_col1\" class=\"data row1 col1\" >1.334711</td>\n",
       "                        <td id=\"T_c225e_row1_col2\" class=\"data row1 col2\" >-0.340164</td>\n",
       "                        <td id=\"T_c225e_row1_col3\" class=\"data row1 col3\" >4.365080</td>\n",
       "                        <td id=\"T_c225e_row1_col4\" class=\"data row1 col4\" >73.037750</td>\n",
       "            </tr>\n",
       "            <tr>\n",
       "                        <th id=\"T_c225e_level0_row2\" class=\"row_heading level0 row2\" >2</th>\n",
       "                        <td id=\"T_c225e_row2_col0\" class=\"data row2 col0\" >409Wp</td>\n",
       "                        <td id=\"T_c225e_row2_col1\" class=\"data row2 col1\" >1.022732</td>\n",
       "                        <td id=\"T_c225e_row2_col2\" class=\"data row2 col2\" >0.151990</td>\n",
       "                        <td id=\"T_c225e_row2_col3\" class=\"data row2 col3\" >1.419926</td>\n",
       "                        <td id=\"T_c225e_row2_col4\" class=\"data row2 col4\" >85.265647</td>\n",
       "            </tr>\n",
       "    </tbody></table>"
      ],
      "text/plain": [
       "<pandas.io.formats.style.Styler at 0x7fd30db7dbe0>"
      ]
     },
     "metadata": {},
     "output_type": "display_data"
    },
    {
     "name": "stdout",
     "output_type": "stream",
     "text": [
      "<class 'pandas.core.frame.DataFrame'>\n",
      "RangeIndex: 100000 entries, 0 to 99999\n",
      "Data columns (total 5 columns):\n",
      " #   Column   Non-Null Count   Dtype  \n",
      "---  ------   --------------   -----  \n",
      " 0   id       100000 non-null  object \n",
      " 1   f0       100000 non-null  float64\n",
      " 2   f1       100000 non-null  float64\n",
      " 3   f2       100000 non-null  float64\n",
      " 4   product  100000 non-null  float64\n",
      "dtypes: float64(4), object(1)\n",
      "memory usage: 3.8+ MB\n"
     ]
    },
    {
     "data": {
      "text/plain": [
       "None"
      ]
     },
     "metadata": {},
     "output_type": "display_data"
    },
    {
     "data": {
      "text/html": [
       "<style  type=\"text/css\" >\n",
       "</style><table id=\"T_90fb8_\" style=\"font-size:10px; width:50%;\"><thead>    <tr>        <th class=\"blank level0\" ></th>        <th class=\"col_heading level0 col0\" >f0</th>        <th class=\"col_heading level0 col1\" >f1</th>        <th class=\"col_heading level0 col2\" >f2</th>        <th class=\"col_heading level0 col3\" >product</th>    </tr></thead><tbody>\n",
       "                <tr>\n",
       "                        <th id=\"T_90fb8_level0_row0\" class=\"row_heading level0 row0\" >count</th>\n",
       "                        <td id=\"T_90fb8_row0_col0\" class=\"data row0 col0\" >100000.000000</td>\n",
       "                        <td id=\"T_90fb8_row0_col1\" class=\"data row0 col1\" >100000.000000</td>\n",
       "                        <td id=\"T_90fb8_row0_col2\" class=\"data row0 col2\" >100000.000000</td>\n",
       "                        <td id=\"T_90fb8_row0_col3\" class=\"data row0 col3\" >100000.000000</td>\n",
       "            </tr>\n",
       "            <tr>\n",
       "                        <th id=\"T_90fb8_level0_row1\" class=\"row_heading level0 row1\" >mean</th>\n",
       "                        <td id=\"T_90fb8_row1_col0\" class=\"data row1 col0\" >0.500419</td>\n",
       "                        <td id=\"T_90fb8_row1_col1\" class=\"data row1 col1\" >0.250143</td>\n",
       "                        <td id=\"T_90fb8_row1_col2\" class=\"data row1 col2\" >2.502647</td>\n",
       "                        <td id=\"T_90fb8_row1_col3\" class=\"data row1 col3\" >92.500000</td>\n",
       "            </tr>\n",
       "            <tr>\n",
       "                        <th id=\"T_90fb8_level0_row2\" class=\"row_heading level0 row2\" >std</th>\n",
       "                        <td id=\"T_90fb8_row2_col0\" class=\"data row2 col0\" >0.871832</td>\n",
       "                        <td id=\"T_90fb8_row2_col1\" class=\"data row2 col1\" >0.504433</td>\n",
       "                        <td id=\"T_90fb8_row2_col2\" class=\"data row2 col2\" >3.248248</td>\n",
       "                        <td id=\"T_90fb8_row2_col3\" class=\"data row2 col3\" >44.288691</td>\n",
       "            </tr>\n",
       "            <tr>\n",
       "                        <th id=\"T_90fb8_level0_row3\" class=\"row_heading level0 row3\" >min</th>\n",
       "                        <td id=\"T_90fb8_row3_col0\" class=\"data row3 col0\" >-1.408605</td>\n",
       "                        <td id=\"T_90fb8_row3_col1\" class=\"data row3 col1\" >-0.848218</td>\n",
       "                        <td id=\"T_90fb8_row3_col2\" class=\"data row3 col2\" >-12.088328</td>\n",
       "                        <td id=\"T_90fb8_row3_col3\" class=\"data row3 col3\" >0.000000</td>\n",
       "            </tr>\n",
       "            <tr>\n",
       "                        <th id=\"T_90fb8_level0_row4\" class=\"row_heading level0 row4\" >50%</th>\n",
       "                        <td id=\"T_90fb8_row4_col0\" class=\"data row4 col0\" >0.502360</td>\n",
       "                        <td id=\"T_90fb8_row4_col1\" class=\"data row4 col1\" >0.250252</td>\n",
       "                        <td id=\"T_90fb8_row4_col2\" class=\"data row4 col2\" >2.515969</td>\n",
       "                        <td id=\"T_90fb8_row4_col3\" class=\"data row4 col3\" >91.849972</td>\n",
       "            </tr>\n",
       "            <tr>\n",
       "                        <th id=\"T_90fb8_level0_row5\" class=\"row_heading level0 row5\" >max</th>\n",
       "                        <td id=\"T_90fb8_row5_col0\" class=\"data row5 col0\" >2.362331</td>\n",
       "                        <td id=\"T_90fb8_row5_col1\" class=\"data row5 col1\" >1.343769</td>\n",
       "                        <td id=\"T_90fb8_row5_col2\" class=\"data row5 col2\" >16.003790</td>\n",
       "                        <td id=\"T_90fb8_row5_col3\" class=\"data row5 col3\" >185.364347</td>\n",
       "            </tr>\n",
       "    </tbody></table>"
      ],
      "text/plain": [
       "<pandas.io.formats.style.Styler at 0x7fd30a117490>"
      ]
     },
     "metadata": {},
     "output_type": "display_data"
    },
    {
     "name": "stdout",
     "output_type": "stream",
     "text": [
      "**********************************************************\n"
     ]
    },
    {
     "data": {
      "text/html": [
       "<style  type=\"text/css\" >\n",
       "</style><table id=\"T_59c68_\" style=\"font-size:10px; width:50%;\"><thead>    <tr>        <th class=\"blank level0\" ></th>        <th class=\"col_heading level0 col0\" >id</th>        <th class=\"col_heading level0 col1\" >f0</th>        <th class=\"col_heading level0 col2\" >f1</th>        <th class=\"col_heading level0 col3\" >f2</th>        <th class=\"col_heading level0 col4\" >product</th>    </tr></thead><tbody>\n",
       "                <tr>\n",
       "                        <th id=\"T_59c68_level0_row0\" class=\"row_heading level0 row0\" >0</th>\n",
       "                        <td id=\"T_59c68_row0_col0\" class=\"data row0 col0\" >kBEdx</td>\n",
       "                        <td id=\"T_59c68_row0_col1\" class=\"data row0 col1\" >-15.001348</td>\n",
       "                        <td id=\"T_59c68_row0_col2\" class=\"data row0 col2\" >-8.276000</td>\n",
       "                        <td id=\"T_59c68_row0_col3\" class=\"data row0 col3\" >-0.005876</td>\n",
       "                        <td id=\"T_59c68_row0_col4\" class=\"data row0 col4\" >3.179103</td>\n",
       "            </tr>\n",
       "            <tr>\n",
       "                        <th id=\"T_59c68_level0_row1\" class=\"row_heading level0 row1\" >1</th>\n",
       "                        <td id=\"T_59c68_row1_col0\" class=\"data row1 col0\" >62mP7</td>\n",
       "                        <td id=\"T_59c68_row1_col1\" class=\"data row1 col1\" >14.272088</td>\n",
       "                        <td id=\"T_59c68_row1_col2\" class=\"data row1 col2\" >-3.475083</td>\n",
       "                        <td id=\"T_59c68_row1_col3\" class=\"data row1 col3\" >0.999183</td>\n",
       "                        <td id=\"T_59c68_row1_col4\" class=\"data row1 col4\" >26.953261</td>\n",
       "            </tr>\n",
       "            <tr>\n",
       "                        <th id=\"T_59c68_level0_row2\" class=\"row_heading level0 row2\" >2</th>\n",
       "                        <td id=\"T_59c68_row2_col0\" class=\"data row2 col0\" >vyE1P</td>\n",
       "                        <td id=\"T_59c68_row2_col1\" class=\"data row2 col1\" >6.263187</td>\n",
       "                        <td id=\"T_59c68_row2_col2\" class=\"data row2 col2\" >-5.948386</td>\n",
       "                        <td id=\"T_59c68_row2_col3\" class=\"data row2 col3\" >5.001160</td>\n",
       "                        <td id=\"T_59c68_row2_col4\" class=\"data row2 col4\" >134.766305</td>\n",
       "            </tr>\n",
       "    </tbody></table>"
      ],
      "text/plain": [
       "<pandas.io.formats.style.Styler at 0x7fd30da9aa60>"
      ]
     },
     "metadata": {},
     "output_type": "display_data"
    },
    {
     "name": "stdout",
     "output_type": "stream",
     "text": [
      "<class 'pandas.core.frame.DataFrame'>\n",
      "RangeIndex: 100000 entries, 0 to 99999\n",
      "Data columns (total 5 columns):\n",
      " #   Column   Non-Null Count   Dtype  \n",
      "---  ------   --------------   -----  \n",
      " 0   id       100000 non-null  object \n",
      " 1   f0       100000 non-null  float64\n",
      " 2   f1       100000 non-null  float64\n",
      " 3   f2       100000 non-null  float64\n",
      " 4   product  100000 non-null  float64\n",
      "dtypes: float64(4), object(1)\n",
      "memory usage: 3.8+ MB\n"
     ]
    },
    {
     "data": {
      "text/plain": [
       "None"
      ]
     },
     "metadata": {},
     "output_type": "display_data"
    },
    {
     "data": {
      "text/html": [
       "<style  type=\"text/css\" >\n",
       "</style><table id=\"T_b0201_\" style=\"font-size:10px; width:50%;\"><thead>    <tr>        <th class=\"blank level0\" ></th>        <th class=\"col_heading level0 col0\" >f0</th>        <th class=\"col_heading level0 col1\" >f1</th>        <th class=\"col_heading level0 col2\" >f2</th>        <th class=\"col_heading level0 col3\" >product</th>    </tr></thead><tbody>\n",
       "                <tr>\n",
       "                        <th id=\"T_b0201_level0_row0\" class=\"row_heading level0 row0\" >count</th>\n",
       "                        <td id=\"T_b0201_row0_col0\" class=\"data row0 col0\" >100000.000000</td>\n",
       "                        <td id=\"T_b0201_row0_col1\" class=\"data row0 col1\" >100000.000000</td>\n",
       "                        <td id=\"T_b0201_row0_col2\" class=\"data row0 col2\" >100000.000000</td>\n",
       "                        <td id=\"T_b0201_row0_col3\" class=\"data row0 col3\" >100000.000000</td>\n",
       "            </tr>\n",
       "            <tr>\n",
       "                        <th id=\"T_b0201_level0_row1\" class=\"row_heading level0 row1\" >mean</th>\n",
       "                        <td id=\"T_b0201_row1_col0\" class=\"data row1 col0\" >1.141296</td>\n",
       "                        <td id=\"T_b0201_row1_col1\" class=\"data row1 col1\" >-4.796579</td>\n",
       "                        <td id=\"T_b0201_row1_col2\" class=\"data row1 col2\" >2.494541</td>\n",
       "                        <td id=\"T_b0201_row1_col3\" class=\"data row1 col3\" >68.825000</td>\n",
       "            </tr>\n",
       "            <tr>\n",
       "                        <th id=\"T_b0201_level0_row2\" class=\"row_heading level0 row2\" >std</th>\n",
       "                        <td id=\"T_b0201_row2_col0\" class=\"data row2 col0\" >8.965932</td>\n",
       "                        <td id=\"T_b0201_row2_col1\" class=\"data row2 col1\" >5.119872</td>\n",
       "                        <td id=\"T_b0201_row2_col2\" class=\"data row2 col2\" >1.703572</td>\n",
       "                        <td id=\"T_b0201_row2_col3\" class=\"data row2 col3\" >45.944423</td>\n",
       "            </tr>\n",
       "            <tr>\n",
       "                        <th id=\"T_b0201_level0_row3\" class=\"row_heading level0 row3\" >min</th>\n",
       "                        <td id=\"T_b0201_row3_col0\" class=\"data row3 col0\" >-31.609576</td>\n",
       "                        <td id=\"T_b0201_row3_col1\" class=\"data row3 col1\" >-26.358598</td>\n",
       "                        <td id=\"T_b0201_row3_col2\" class=\"data row3 col2\" >-0.018144</td>\n",
       "                        <td id=\"T_b0201_row3_col3\" class=\"data row3 col3\" >0.000000</td>\n",
       "            </tr>\n",
       "            <tr>\n",
       "                        <th id=\"T_b0201_level0_row4\" class=\"row_heading level0 row4\" >50%</th>\n",
       "                        <td id=\"T_b0201_row4_col0\" class=\"data row4 col0\" >1.153055</td>\n",
       "                        <td id=\"T_b0201_row4_col1\" class=\"data row4 col1\" >-4.813172</td>\n",
       "                        <td id=\"T_b0201_row4_col2\" class=\"data row4 col2\" >2.011479</td>\n",
       "                        <td id=\"T_b0201_row4_col3\" class=\"data row4 col3\" >57.085625</td>\n",
       "            </tr>\n",
       "            <tr>\n",
       "                        <th id=\"T_b0201_level0_row5\" class=\"row_heading level0 row5\" >max</th>\n",
       "                        <td id=\"T_b0201_row5_col0\" class=\"data row5 col0\" >29.421755</td>\n",
       "                        <td id=\"T_b0201_row5_col1\" class=\"data row5 col1\" >18.734063</td>\n",
       "                        <td id=\"T_b0201_row5_col2\" class=\"data row5 col2\" >5.019721</td>\n",
       "                        <td id=\"T_b0201_row5_col3\" class=\"data row5 col3\" >137.945408</td>\n",
       "            </tr>\n",
       "    </tbody></table>"
      ],
      "text/plain": [
       "<pandas.io.formats.style.Styler at 0x7fd30deb57c0>"
      ]
     },
     "metadata": {},
     "output_type": "display_data"
    },
    {
     "name": "stdout",
     "output_type": "stream",
     "text": [
      "**********************************************************\n"
     ]
    },
    {
     "data": {
      "text/html": [
       "<style  type=\"text/css\" >\n",
       "</style><table id=\"T_be59d_\" style=\"font-size:10px; width:50%;\"><thead>    <tr>        <th class=\"blank level0\" ></th>        <th class=\"col_heading level0 col0\" >id</th>        <th class=\"col_heading level0 col1\" >f0</th>        <th class=\"col_heading level0 col2\" >f1</th>        <th class=\"col_heading level0 col3\" >f2</th>        <th class=\"col_heading level0 col4\" >product</th>    </tr></thead><tbody>\n",
       "                <tr>\n",
       "                        <th id=\"T_be59d_level0_row0\" class=\"row_heading level0 row0\" >0</th>\n",
       "                        <td id=\"T_be59d_row0_col0\" class=\"data row0 col0\" >fwXo0</td>\n",
       "                        <td id=\"T_be59d_row0_col1\" class=\"data row0 col1\" >-1.146987</td>\n",
       "                        <td id=\"T_be59d_row0_col2\" class=\"data row0 col2\" >0.963328</td>\n",
       "                        <td id=\"T_be59d_row0_col3\" class=\"data row0 col3\" >-0.828965</td>\n",
       "                        <td id=\"T_be59d_row0_col4\" class=\"data row0 col4\" >27.758673</td>\n",
       "            </tr>\n",
       "            <tr>\n",
       "                        <th id=\"T_be59d_level0_row1\" class=\"row_heading level0 row1\" >1</th>\n",
       "                        <td id=\"T_be59d_row1_col0\" class=\"data row1 col0\" >WJtFt</td>\n",
       "                        <td id=\"T_be59d_row1_col1\" class=\"data row1 col1\" >0.262778</td>\n",
       "                        <td id=\"T_be59d_row1_col2\" class=\"data row1 col2\" >0.269839</td>\n",
       "                        <td id=\"T_be59d_row1_col3\" class=\"data row1 col3\" >-2.530187</td>\n",
       "                        <td id=\"T_be59d_row1_col4\" class=\"data row1 col4\" >56.069697</td>\n",
       "            </tr>\n",
       "            <tr>\n",
       "                        <th id=\"T_be59d_level0_row2\" class=\"row_heading level0 row2\" >2</th>\n",
       "                        <td id=\"T_be59d_row2_col0\" class=\"data row2 col0\" >ovLUW</td>\n",
       "                        <td id=\"T_be59d_row2_col1\" class=\"data row2 col1\" >0.194587</td>\n",
       "                        <td id=\"T_be59d_row2_col2\" class=\"data row2 col2\" >0.289035</td>\n",
       "                        <td id=\"T_be59d_row2_col3\" class=\"data row2 col3\" >-5.586433</td>\n",
       "                        <td id=\"T_be59d_row2_col4\" class=\"data row2 col4\" >62.871910</td>\n",
       "            </tr>\n",
       "    </tbody></table>"
      ],
      "text/plain": [
       "<pandas.io.formats.style.Styler at 0x7fd309d3e370>"
      ]
     },
     "metadata": {},
     "output_type": "display_data"
    },
    {
     "name": "stdout",
     "output_type": "stream",
     "text": [
      "<class 'pandas.core.frame.DataFrame'>\n",
      "RangeIndex: 100000 entries, 0 to 99999\n",
      "Data columns (total 5 columns):\n",
      " #   Column   Non-Null Count   Dtype  \n",
      "---  ------   --------------   -----  \n",
      " 0   id       100000 non-null  object \n",
      " 1   f0       100000 non-null  float64\n",
      " 2   f1       100000 non-null  float64\n",
      " 3   f2       100000 non-null  float64\n",
      " 4   product  100000 non-null  float64\n",
      "dtypes: float64(4), object(1)\n",
      "memory usage: 3.8+ MB\n"
     ]
    },
    {
     "data": {
      "text/plain": [
       "None"
      ]
     },
     "metadata": {},
     "output_type": "display_data"
    },
    {
     "data": {
      "text/html": [
       "<style  type=\"text/css\" >\n",
       "</style><table id=\"T_e9d5d_\" style=\"font-size:10px; width:50%;\"><thead>    <tr>        <th class=\"blank level0\" ></th>        <th class=\"col_heading level0 col0\" >f0</th>        <th class=\"col_heading level0 col1\" >f1</th>        <th class=\"col_heading level0 col2\" >f2</th>        <th class=\"col_heading level0 col3\" >product</th>    </tr></thead><tbody>\n",
       "                <tr>\n",
       "                        <th id=\"T_e9d5d_level0_row0\" class=\"row_heading level0 row0\" >count</th>\n",
       "                        <td id=\"T_e9d5d_row0_col0\" class=\"data row0 col0\" >100000.000000</td>\n",
       "                        <td id=\"T_e9d5d_row0_col1\" class=\"data row0 col1\" >100000.000000</td>\n",
       "                        <td id=\"T_e9d5d_row0_col2\" class=\"data row0 col2\" >100000.000000</td>\n",
       "                        <td id=\"T_e9d5d_row0_col3\" class=\"data row0 col3\" >100000.000000</td>\n",
       "            </tr>\n",
       "            <tr>\n",
       "                        <th id=\"T_e9d5d_level0_row1\" class=\"row_heading level0 row1\" >mean</th>\n",
       "                        <td id=\"T_e9d5d_row1_col0\" class=\"data row1 col0\" >0.002023</td>\n",
       "                        <td id=\"T_e9d5d_row1_col1\" class=\"data row1 col1\" >-0.002081</td>\n",
       "                        <td id=\"T_e9d5d_row1_col2\" class=\"data row1 col2\" >2.495128</td>\n",
       "                        <td id=\"T_e9d5d_row1_col3\" class=\"data row1 col3\" >95.000000</td>\n",
       "            </tr>\n",
       "            <tr>\n",
       "                        <th id=\"T_e9d5d_level0_row2\" class=\"row_heading level0 row2\" >std</th>\n",
       "                        <td id=\"T_e9d5d_row2_col0\" class=\"data row2 col0\" >1.732045</td>\n",
       "                        <td id=\"T_e9d5d_row2_col1\" class=\"data row2 col1\" >1.730417</td>\n",
       "                        <td id=\"T_e9d5d_row2_col2\" class=\"data row2 col2\" >3.473445</td>\n",
       "                        <td id=\"T_e9d5d_row2_col3\" class=\"data row2 col3\" >44.749921</td>\n",
       "            </tr>\n",
       "            <tr>\n",
       "                        <th id=\"T_e9d5d_level0_row3\" class=\"row_heading level0 row3\" >min</th>\n",
       "                        <td id=\"T_e9d5d_row3_col0\" class=\"data row3 col0\" >-8.760004</td>\n",
       "                        <td id=\"T_e9d5d_row3_col1\" class=\"data row3 col1\" >-7.084020</td>\n",
       "                        <td id=\"T_e9d5d_row3_col2\" class=\"data row3 col2\" >-11.970335</td>\n",
       "                        <td id=\"T_e9d5d_row3_col3\" class=\"data row3 col3\" >0.000000</td>\n",
       "            </tr>\n",
       "            <tr>\n",
       "                        <th id=\"T_e9d5d_level0_row4\" class=\"row_heading level0 row4\" >50%</th>\n",
       "                        <td id=\"T_e9d5d_row4_col0\" class=\"data row4 col0\" >0.009424</td>\n",
       "                        <td id=\"T_e9d5d_row4_col1\" class=\"data row4 col1\" >-0.009482</td>\n",
       "                        <td id=\"T_e9d5d_row4_col2\" class=\"data row4 col2\" >2.484236</td>\n",
       "                        <td id=\"T_e9d5d_row4_col3\" class=\"data row4 col3\" >94.925613</td>\n",
       "            </tr>\n",
       "            <tr>\n",
       "                        <th id=\"T_e9d5d_level0_row5\" class=\"row_heading level0 row5\" >max</th>\n",
       "                        <td id=\"T_e9d5d_row5_col0\" class=\"data row5 col0\" >7.238262</td>\n",
       "                        <td id=\"T_e9d5d_row5_col1\" class=\"data row5 col1\" >7.844801</td>\n",
       "                        <td id=\"T_e9d5d_row5_col2\" class=\"data row5 col2\" >16.739402</td>\n",
       "                        <td id=\"T_e9d5d_row5_col3\" class=\"data row5 col3\" >190.029838</td>\n",
       "            </tr>\n",
       "    </tbody></table>"
      ],
      "text/plain": [
       "<pandas.io.formats.style.Styler at 0x7fd309d644c0>"
      ]
     },
     "metadata": {},
     "output_type": "display_data"
    }
   ],
   "source": [
    "def data_summary (df):\n",
    "    print(f'**********************************************************')\n",
    "    display(df.head(3).style.set_table_attributes('style=\"font-size:10px; width:50%;\"'))\n",
    "    display(df.info())\n",
    "    display(df.describe().loc[['count','mean','std','min','50%','max']]\n",
    "        .style.set_table_attributes('style=\"font-size:10px; width:50%;\"'))\n",
    "    \n",
    "data_summary(geo0_df)\n",
    "data_summary(geo1_df)\n",
    "data_summary(geo2_df)"
   ]
  },
  {
   "cell_type": "markdown",
   "metadata": {},
   "source": [
    "## Data Prepartation"
   ]
  },
  {
   "cell_type": "code",
   "execution_count": 35,
   "metadata": {},
   "outputs": [],
   "source": [
    "def split_7525 (df):\n",
    "    features = df.drop(['id','product'], axis= 1)\n",
    "    target = df['product']\n",
    "    \n",
    "    x_train, x_valid, y_train, y_valid = train_test_split(\n",
    "        features, target, test_size= 0.25, random_state= 42\n",
    "    )\n",
    "\n",
    "    return x_train, x_valid, y_train, y_valid\n",
    "\n",
    "\n",
    "\n",
    "def make_models (x_train, x_valid, y_train, y_valid):\n",
    "    \n",
    "    model = LinearRegression(n_jobs= -1).fit(x_train,y_train)\n",
    "    predicted = model.predict(x_valid)\n",
    "    RMSE = MSE(y_valid, predicted)**.5\n",
    "    avg_pred = predicted.mean()\n",
    "    \n",
    "    return (model, predicted, avg_pred, RMSE)"
   ]
  },
  {
   "cell_type": "markdown",
   "metadata": {},
   "source": [
    "# Model Building\n",
    "\n",
    "A model for each region was trained using Linear Regression modeling. Models, validation features and targets, predictions, prediction average, and RMSE of models are stored in dictionary `model_data`. \n",
    "\n",
    "Linear models of predicted reserves for each region are summarized below (decimals rounded for brevity/display). \n",
    "\n",
    "$$\n",
    "\\hat{Y}_{geo0} = 77.67 + 3.83 f_0 - 14.26 f_1 + 6.59 f_2\n",
    "$$  \n",
    "Average Predicted Volume in `geo0`: 92.399  \n",
    "RMSE: 37.76  \n",
    "\n",
    "$$\n",
    "\\hat{Y}_{geo1} = 1.65 - 0.14 f_0 - 0.02 f_1 + 26.95 f_2\n",
    "$$  \n",
    "Average Predicted Volume in `geo1`: 68.713  \n",
    "RMSE: 0.89  \n",
    " \n",
    "$$\n",
    "\\hat{Y}_{geo2} = 80.56 - 0.08 f_0 - 0.02 f_1 + 5.75 f_2\n",
    "$$  \n",
    "Average Predicted Volume in `geo2`: 94.771  \n",
    "RMSE: 40.15 \n",
    "\n",
    "--------------\n",
    "As RMSE was roughly 30-40% of the total average volume, the linear models for `geo0` and `geo2` may not be reliable predictors for reserve volume. For the time being, we will procede with these models. \n"
   ]
  },
  {
   "cell_type": "code",
   "execution_count": 36,
   "metadata": {},
   "outputs": [],
   "source": [
    "splits = {}\n",
    "model_data = {}\n",
    "\n",
    "for region, df in geo_data.items():\n",
    "\n",
    "    x_train, x_valid, y_train, y_valid = split_7525(df)\n",
    "    splits[region] = x_train, x_valid, y_train, y_valid\n",
    "\n",
    "    model, predicted, avg_pred, RMSE = make_models (x_train, x_valid, y_train, y_valid)\n",
    "\n",
    "    model_data[region] = {\n",
    "        'model': model,\n",
    "        'features': x_valid,\n",
    "        'predictions': predicted,\n",
    "        'targets': y_valid,\n",
    "        'avg_pred': avg_pred,\n",
    "        'rmse': RMSE\n",
    "    }"
   ]
  },
  {
   "cell_type": "code",
   "execution_count": 37,
   "metadata": {},
   "outputs": [
    {
     "name": "stdout",
     "output_type": "stream",
     "text": [
      "*****************************\n",
      "Avg Vol. of Predicted Reserves in geo0: 92.39879990657768\n",
      "Coefficients:  [  3.83 -14.26   6.59]\n",
      "Y-intercept:  77.67\n",
      "RMSE of Model on geo0: 37.76\n",
      "\n",
      "*****************************\n",
      "Avg Vol. of Predicted Reserves in geo1: 68.71287803913762\n",
      "Coefficients:  [-1.400e-01 -2.000e-02  2.695e+01]\n",
      "Y-intercept:  1.65\n",
      "RMSE of Model on geo1: 0.89\n",
      "\n",
      "*****************************\n",
      "Avg Vol. of Predicted Reserves in geo2: 94.77102387765939\n",
      "Coefficients:  [-0.08 -0.02  5.75]\n",
      "Y-intercept:  80.56\n",
      "RMSE of Model on geo2: 40.15\n",
      "\n"
     ]
    }
   ],
   "source": [
    "for region, metrics in model_data.items():\n",
    "    print('*****************************')\n",
    "    print(f\"Avg Vol. of Predicted Reserves in {region}: {metrics['avg_pred']}\")\n",
    "    print('Coefficients: ', metrics['model'].coef_.round(2))\n",
    "    print('Y-intercept: ', metrics['model'].intercept_.round(2))\n",
    "    print(f\"RMSE of Model on {region}: {metrics['rmse'].round(2)}\")\n",
    "    print()"
   ]
  },
  {
   "cell_type": "markdown",
   "metadata": {},
   "source": [
    "# Initial Profit Prediction\n",
    "\n",
    "Using our models, we predicted the top 200 well reserves in each region and calculated the corresponding maximum potential profit:\n",
    "- `'geo0'`: \\$38,966,584. 80\n",
    "- `'geo1'`: \\$24,869,381. 15\n",
    "- `'geo2'`: \\$33,779,815. 14\n",
    "\n",
    "While these levels are returns are unlikely for each new well, we can see that geo0 and geo2 are strong contenders for well development.\n",
    "\n",
    "### Potential Data Anomaly \n",
    "In exploration of actual reserve data, we noticed multiple records of 137.945408 in `geo1'. This duplication is explored below. "
   ]
  },
  {
   "cell_type": "code",
   "execution_count": 38,
   "metadata": {},
   "outputs": [
    {
     "name": "stdout",
     "output_type": "stream",
     "text": [
      "Predicted Top 200 Well Profit in geo0 :  38966584.8\n",
      "\n",
      "Predicted Top 200 Well Profit in geo1 :  24869381.15\n",
      "\n",
      "Predicted Top 200 Well Profit in geo2 :  33779815.14\n",
      "\n",
      "View of Targets in geo0:\n",
      " 43599    144.607600\n",
      "98007    147.044366\n",
      "13413     83.357783\n",
      "60818    142.648280\n",
      "23465     91.010341\n",
      "74833    165.364000\n",
      "96193    159.459588\n",
      "24393    112.029577\n",
      "64592    170.370134\n",
      "62067    146.550138\n",
      "Name: product, dtype: float64\n",
      "\n",
      "View of Predictions in geo0:\n",
      " 95     153.251696\n",
      "15     165.907763\n",
      "30     160.961624\n",
      "158    148.829327\n",
      "128    150.647468\n",
      "115    151.560025\n",
      "69     155.330777\n",
      "170    148.084486\n",
      "174    147.790205\n",
      "45     158.048816\n",
      "dtype: float64\n",
      "\n",
      " ******************************** \n",
      "\n",
      "View of Targets in geo1:\n",
      " 91923    137.945408\n",
      "32885    137.945408\n",
      "66424    137.945408\n",
      "45674    137.945408\n",
      "51469    137.945408\n",
      "8270     137.945408\n",
      "84722    137.945408\n",
      "5288     137.945408\n",
      "18168    137.945408\n",
      "93116    137.945408\n",
      "Name: product, dtype: float64\n",
      "\n",
      "View of Predictions in geo1:\n",
      " 95     138.687038\n",
      "15     139.251654\n",
      "30     138.989216\n",
      "158    138.520458\n",
      "128    138.582228\n",
      "115    138.611181\n",
      "69     138.789084\n",
      "170    138.498385\n",
      "174    138.494536\n",
      "45     138.904693\n",
      "dtype: float64\n",
      "\n",
      " ******************************** \n",
      "\n",
      "View of Targets in geo2:\n",
      " 82352    159.700126\n",
      "2709     162.595776\n",
      "83777    128.238185\n",
      "45545    176.513402\n",
      "64152     77.713311\n",
      "84280    154.195387\n",
      "44198    127.686767\n",
      "45888    120.736156\n",
      "39111    167.083741\n",
      "26847    134.080374\n",
      "Name: product, dtype: float64\n",
      "\n",
      "View of Predictions in geo2:\n",
      " 95     147.318631\n",
      "15     156.509226\n",
      "30     153.391843\n",
      "158    144.355688\n",
      "128    145.680954\n",
      "115    146.362580\n",
      "69     149.707019\n",
      "170    143.624788\n",
      "174    143.337184\n",
      "45     151.998199\n",
      "dtype: float64\n",
      "\n",
      " ******************************** \n",
      "\n"
     ]
    }
   ],
   "source": [
    "def make_top_profits_dict (predictions, target, budget=budget_total, wells_selected=200, rev_unit= rev_per_unit):\n",
    "    sorted_indices = np.argsort(predictions)[::-1]\n",
    "    top_indices = sorted_indices[:wells_selected]\n",
    "\n",
    "    top_preds = predictions[top_indices]\n",
    "    top_target = target.iloc[top_indices]\n",
    "\n",
    "    rev_p = top_preds.sum() * rev_unit\n",
    "    rev_t = top_target.sum() * rev_unit\n",
    "\n",
    "    g_profit_p = rev_p - budget\n",
    "    g_profit_t = rev_t - budget\n",
    "\n",
    "    return {\n",
    "        'predictions': top_preds,\n",
    "        'targets': top_target,\n",
    "        'g_profit_p': g_profit_p,\n",
    "        'g_profit_real': g_profit_t\n",
    "    }\n",
    "top_200_pred_data = {}\n",
    "\n",
    "for region, df in model_data.items():\n",
    "    top_200_pred_data[region] = make_top_profits_dict(df['predictions'], df['targets'])\n",
    "    print('Predicted Top 200 Well Profit in',region, ': ', top_200_pred_data[region]['g_profit_p'].round(2))\n",
    "    print()\n",
    "\n",
    "for region, df in model_data.items():\n",
    "    print(f'View of Targets in {region}:\\n',top_200_pred_data[region]['targets'].sample(10, random_state=42))\n",
    "    print()\n",
    "    print(f'View of Predictions in {region}:\\n',pd.Series(top_200_pred_data[region]['predictions']).sample(10, random_state=42))\n",
    "    print('\\n ******************************** \\n')"
   ]
  },
  {
   "cell_type": "markdown",
   "metadata": {},
   "source": [
    "## Identical Entries in `'geo1'`\n",
    "\n",
    "In exploration of the orginal dataset, we note that unlike data from the other two regions, product data from `geo1` is likely artificially clustered around 12 reserve volumes. This does not appear to be data duplication as entries with the same product number, are shown to have different feature values and come from different well IDs. As reported product values are not 'round values', it is unlikely attributed to rounding or 'coincidence'.\n",
    "\n",
    "| index | id    | f0         | f1       | f2       | product    |\n",
    "|-------|-------|------------|----------|----------|------------|\n",
    "| 80296 | J0hku | -11.519132 | 3.725281 | 4.996069 | 137.945408 |\n",
    "| 4727  | yZGf8 | -12.146275 | 5.893105 | 5.005318 | 137.945408 |\n",
    "\n",
    "Exploration will need to be made whether this is a recording error or an intentional clustering by the data preparation team. "
   ]
  },
  {
   "cell_type": "code",
   "execution_count": 39,
   "metadata": {},
   "outputs": [
    {
     "name": "stdout",
     "output_type": "stream",
     "text": [
      "geo1 \n",
      " 53.906522     2152\n",
      "30.132364     2125\n",
      "3.179103      2106\n",
      "84.038886     2098\n",
      "57.085625     2085\n",
      "26.953261     2077\n",
      "134.766305    2072\n",
      "110.992147    2072\n",
      "80.859783     2061\n",
      "137.945408    2053\n",
      "107.813044    2050\n",
      "0.000000      2049\n",
      "Name: product, dtype: int64\n",
      "\n",
      "geo0 \n",
      " 116.482251    1\n",
      "12.971518     1\n",
      "132.873961    1\n",
      "88.473236     1\n",
      "80.273031     1\n",
      "             ..\n",
      "40.630510     1\n",
      "47.536968     1\n",
      "49.853333     1\n",
      "108.651045    1\n",
      "25.961886     1\n",
      "Name: product, Length: 25000, dtype: int64\n",
      "\n",
      "geo2 \n",
      " 116.482251    1\n",
      "12.971518     1\n",
      "132.873961    1\n",
      "88.473236     1\n",
      "80.273031     1\n",
      "             ..\n",
      "40.630510     1\n",
      "47.536968     1\n",
      "49.853333     1\n",
      "108.651045    1\n",
      "25.961886     1\n",
      "Name: product, Length: 25000, dtype: int64\n",
      "\n",
      "              f0        f1        f2      target\n",
      "80296 -11.519132  3.725281  4.996069  137.945408\n",
      "4727  -12.146275  5.893105  5.005318  137.945408\n",
      "61769  -5.584071 -0.460557  5.008913  137.945408\n",
      "36290  -6.940447 -4.034794  5.001032  137.945408\n",
      "578   -11.349024  2.707383  4.997449  137.945408\n",
      "          id     product\n",
      "80296  J0hku  137.945408\n",
      "4727   yZGf8  137.945408\n"
     ]
    }
   ],
   "source": [
    "print ('geo1 \\n', model_data['geo1']['targets'].value_counts())\n",
    "print()\n",
    "\n",
    "print ('geo0 \\n',model_data['geo0']['targets'].value_counts())\n",
    "print()\n",
    "\n",
    "print ('geo2 \\n',model_data['geo0']['targets'].value_counts())\n",
    "print()\n",
    "\n",
    "repeat_mask = np.isclose(model_data['geo1']['targets'], 137.945408, rtol=1e-5, atol=1e-8)\n",
    "view_repeat = model_data['geo1']['features'][repeat_mask].copy()\n",
    "view_repeat['target'] = model_data['geo1']['targets'][repeat_mask].values\n",
    "print(view_repeat.head())\n",
    "\n",
    "indices = [80296, 4727]\n",
    "# select from geo1 DataFrame\n",
    "subset = geo_data['geo1'].loc[indices, ['id', 'product']]\n",
    "\n",
    "print(subset)"
   ]
  },
  {
   "cell_type": "markdown",
   "metadata": {},
   "source": [
    "# Bootstrap Analysis\n",
    "\n",
    "To determine the likely profit distribution for each region, 1000 bootstrap samples of 500 wells were taken. Our models were then used to predict the top 200 wells of each region. Actual reserve data from each of these wells were then used to calculate the potential profit. The 95% confidence intervals was also determined from the distributions. \n",
    "\n",
    "\n",
    "| Region | Average Bootstrap Profit (USD) |   |    95% CI   |     |\n",
    "|--------|-------------------------------|------------------|--------|--------------------|\n",
    "| geo0   | +3,995,754.78                 | -1,104,678.95    |   to   | +8,974,603.27      |\n",
    "| geo1   | +4,520,488.91                 |   +616,844.80    |   to   | +8,453,401.78      |\n",
    "| geo2   | +3,750,099.03                 | -1,447,667.27    |   to   | +8,883,904.04      |\n",
    "\n",
    "Profit distibution is also displayed in charts below. \n"
   ]
  },
  {
   "cell_type": "code",
   "execution_count": 40,
   "metadata": {
    "scrolled": true
   },
   "outputs": [
    {
     "name": "stdout",
     "output_type": "stream",
     "text": [
      "Average Bootstrap Profit in Region geo0: 3995754.780542297\n",
      "95% CI Interval: [-1104678.95331971  8974603.27717879]\n",
      "\n",
      "Average Bootstrap Profit in Region geo1: 4520488.909064583\n",
      "95% CI Interval: [ 616844.79654227 8453401.77507385]\n",
      "\n",
      "Average Bootstrap Profit in Region geo2: 3750099.0291532897\n",
      "95% CI Interval: [-1447667.27304893  8883904.03534222]\n",
      "\n"
     ]
    }
   ],
   "source": [
    "top_200_bs = {}\n",
    "\n",
    "for region, df in model_data.items():\n",
    "    top_200_bs[region] = {\n",
    "        'g_profit_p': [],\n",
    "        'g_profit_real': []\n",
    "    }\n",
    "    \n",
    "    state = np.random.RandomState(42)\n",
    "    \n",
    "    for _ in range(boot_straps):\n",
    "        \n",
    "        sample_x, sample_y = resample(\n",
    "            model_data[region]['features'], model_data[region]['targets'],\n",
    "            n_samples=points_studied, random_state=state)\n",
    "        \n",
    "        bs_pred_y = model_data[region]['model'].predict(sample_x)\n",
    "        \n",
    "        bs_run_dict = make_top_profits_dict (bs_pred_y, sample_y, budget=budget_total, wells_selected=200, rev_unit= rev_per_unit)\n",
    "\n",
    "        for key in ('g_profit_p', 'g_profit_real'):\n",
    "            top_200_bs[region][key].append(bs_run_dict[key])\n",
    "\n",
    "    top_200_bs[region]['profits_95CI'] = np.percentile(top_200_bs[region]['g_profit_real'], [2.5, 97.5])\n",
    "    print(f'Average Bootstrap Profit in Region {region}:',pd.Series(top_200_bs[region]['g_profit_real']).mean())\n",
    "    print('95% CI Interval:', top_200_bs[region]['profits_95CI'])\n",
    "    print()"
   ]
  },
  {
   "cell_type": "markdown",
   "metadata": {},
   "source": [
    "### Profit Distributions"
   ]
  },
  {
   "cell_type": "code",
   "execution_count": 41,
   "metadata": {
    "jupyter": {
     "source_hidden": true
    }
   },
   "outputs": [
    {
     "data": {
      "image/png": "[encoded data removed]",
      "text/plain": [
       "<Figure size 1000x450 with 2 Axes>"
      ]
     },
     "metadata": {},
     "output_type": "display_data"
    }
   ],
   "source": [
    "df_bs = pd.DataFrame([\n",
    "    {'Region': region, 'profit': p / 1_000_000}\n",
    "    for region, data in top_200_bs.items()\n",
    "    for p in data['g_profit_real']\n",
    "])\n",
    "\n",
    "sns.set_palette('bright')\n",
    "\n",
    "fig, axes = plt.subplots(1, 2, figsize=(10, 4.5), gridspec_kw={'width_ratios': [2.5, 1]})\n",
    "\n",
    "# Full distribution\n",
    "sns.histplot(data=df_bs, x='profit', hue='Region', bins=100, alpha=0.5, element='step', kde=True, ax=axes[0])\n",
    "axes[0].axvline(x=0, color='black', linestyle='--', linewidth=1)\n",
    "axes[0].set_xlabel('Profit in USD Millions')\n",
    "axes[0].set_ylabel('Frequency')\n",
    "axes[0].set_title('Profit Distribution')\n",
    "\n",
    "# Zoomed losses\n",
    "sns.histplot(data=df_bs, x='profit', hue='Region', bins=100, alpha=0.5, element='step', kde=True, ax=axes[1], legend=False)\n",
    "axes[1].axvline(x=0, color='black', linestyle='--', linewidth=1)\n",
    "axes[1].set_xlim(df_bs['profit'].min(), 0)\n",
    "axes[1].set_ylim(0, 15)\n",
    "axes[1].set_xlabel('Profit in USD Millions')\n",
    "axes[1].set_ylabel('Frequency')\n",
    "axes[1].set_title('Potential Losses')\n",
    "\n",
    "plt.tight_layout()\n",
    "plt.show()"
   ]
  },
  {
   "cell_type": "markdown",
   "metadata": {},
   "source": [
    "As noted above, it must be noted that `geo1` is artificially clustered around select values, likely explaining the denser central clustering and the lower frequency of profit loss in region `geo1`. "
   ]
  },
  {
   "cell_type": "markdown",
   "metadata": {},
   "source": [
    "### Risk of Loss\n",
    "\n",
    "Finally risk of profit loss was calculated as the percent incidence of negative profit within each of the 1000 bootstraps. It was found that:\n",
    "\n",
    "- Risk of Loss in Region geo0:  6.0 %\n",
    "- Risk of Loss in Region geo1:  1.5 %\n",
    "- Risk of Loss in Region geo2:  8.0 %"
   ]
  },
  {
   "cell_type": "code",
   "execution_count": 42,
   "metadata": {},
   "outputs": [
    {
     "name": "stdout",
     "output_type": "stream",
     "text": [
      "Risk of Loss in Region geo0 6.0 %\n",
      "Risk of Loss in Region geo1 1.5 %\n",
      "Risk of Loss in Region geo2 8.0 %\n"
     ]
    }
   ],
   "source": [
    "for region, df in top_200_bs.items():\n",
    "    top_200_bs[region]['losses'] = sum(1 for profit in top_200_bs[region]['g_profit_real'] if profit<0)\n",
    "    top_200_bs[region]['risk'] = top_200_bs[region]['losses'] / boot_straps\n",
    "\n",
    "    print('Risk of Loss in Region',region,top_200_bs[region]['risk']*100,'%' )\n",
    "\n"
   ]
  },
  {
   "cell_type": "markdown",
   "metadata": {},
   "source": [
    "# Well Selection\n",
    "\n",
    "From bootstrap analysis, it was found that `geo1` has the least risk of profit loss at 1.5%. Accordingly, no profit loss was identified in the 95% confidence interval. **However**, while this meets our risk tolerance of 2.5%, given the clustering seen in `geo1`, there is not enough information to make a recommendation at this time. Data preparation methods will need to be interrogated. \n",
    "\n",
    "As linear regression was determined to be poor models for the other regions, with RSME scores roughly 30-40% of average reserves, further exploration into `geo0` and `geo2` is warrented. As noted in initial model training, our most profitable top-200 wells are located in `geo0` and `geo2`. Possible explorations include ruling out multicollinearity, determining possible interaction effects amongst featurs, or exploring polynomial regression models. \n",
    "\n",
    "\n",
    "# Conclusion"
   ]
  },
  {
   "cell_type": "markdown",
   "metadata": {},
   "source": [
    "We are unable to make a confident recommendation at this time. While `geo1` was determined to be a potential contender, further exploration needs to be made before disqualifing our other regions. "
   ]
  },
  {
   "cell_type": "code",
   "execution_count": null,
   "metadata": {},
   "outputs": [],
   "source": []
  }
 ],
 "metadata": {
  "kernelspec": {
   "display_name": "Python 3 (ipykernel)",
   "language": "python",
   "name": "python3"
  },
  "language_info": {
   "codemirror_mode": {
    "name": "ipython",
    "version": 3
   },
   "file_extension": ".py",
   "mimetype": "text/x-python",
   "name": "python",
   "nbconvert_exporter": "python",
   "pygments_lexer": "ipython3",
   "version": "3.9.23"
  }
 },
 "nbformat": 4,
 "nbformat_minor": 4
}
